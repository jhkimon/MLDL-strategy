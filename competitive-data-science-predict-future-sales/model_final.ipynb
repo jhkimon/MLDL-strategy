{
 "cells": [
  {
   "cell_type": "markdown",
   "metadata": {},
   "source": [
    "## Data import"
   ]
  },
  {
   "cell_type": "code",
   "execution_count": 76,
   "metadata": {},
   "outputs": [],
   "source": [
    "import pandas as pd\n",
    "import numpy as np\n",
    "import warnings\n",
    "\n",
    "data_path = '../data/competitive-data-science-predict-future-sales/'\n",
    "\n",
    "warnings.filterwarnings(action='ignore')\n",
    "\n",
    "sales_train = pd.read_csv(data_path + 'sales_train.csv')\n",
    "shops = pd.read_csv(data_path + 'shops.csv')\n",
    "items = pd.read_csv(data_path + 'items.csv')\n",
    "item_categories = pd.read_csv(data_path + 'item_categories.csv')\n",
    "test = pd.read_csv(data_path + 'test.csv')\n",
    "submission = pd.read_csv(data_path + 'sample_submission.csv')"
   ]
  },
  {
   "cell_type": "code",
   "execution_count": 77,
   "metadata": {},
   "outputs": [],
   "source": [
    "sales_train = sales_train.rename(columns={'date': '날짜',\n",
    "                                          'date_block_num': '월ID',\n",
    "                                          'shop_id': '상점ID',\n",
    "                                          'item_id': '상품ID',\n",
    "                                          'item_price': '판매가',\n",
    "                                          'item_cnt_day': '판매량'})\n",
    "\n",
    "shops = shops.rename(columns={'shop_name': '상점명',\n",
    "                              'shop_id': '상점ID'})\n",
    "\n",
    "items = items.rename(columns={'item_name': '상품명',\n",
    "                              'item_id': '상품ID',\n",
    "                              'item_category_id': '상품분류ID'})\n",
    "\n",
    "item_categories = item_categories.rename(columns={\n",
    "    'item_category_name': '상품분류명',\n",
    "    'item_category_id': '상품분류ID',\n",
    "})\n",
    "\n",
    "test = test.rename(columns={'shop_id': '상점ID',\n",
    "                            'item_id': '상품ID'})"
   ]
  },
  {
   "cell_type": "code",
   "execution_count": 78,
   "metadata": {},
   "outputs": [],
   "source": [
    "def downcast(df, verbose=True):\n",
    "    start_mem = df.memory_usage().sum() / 1024 ** 2\n",
    "    for col in df.columns:\n",
    "        dtype_name = df[col].dtype.name\n",
    "        if dtype_name == 'object':\n",
    "            pass\n",
    "        elif dtype_name == 'bool':\n",
    "            df[col] = df[col].astype('int8')\n",
    "        elif dtype_name.startswith('int') or (df[col].round() == df[col]).all():\n",
    "            df[col] = pd.to_numeric(df[col], downcast='integer')\n",
    "        else:\n",
    "            df[col] = pd.to_numeric(df[col], downcast='float')\n",
    "\n",
    "    end_mem = df.memory_usage().sum() / 1024 ** 2\n",
    "\n",
    "    if verbose:\n",
    "        print(\"{:.1f}% 압축됨\".format(100 * (start_mem - end_mem) / start_mem))\n",
    "\n",
    "    return df"
   ]
  },
  {
   "cell_type": "code",
   "execution_count": 79,
   "metadata": {},
   "outputs": [
    {
     "name": "stdout",
     "output_type": "stream",
     "text": [
      "54.2% 압축됨\n",
      "38.5% 압축됨\n",
      "54.2% 압축됨\n",
      "39.8% 압축됨\n",
      "70.8% 압축됨\n"
     ]
    }
   ],
   "source": [
    "all_df = [sales_train, shops, items, item_categories, test]\n",
    "for df in all_df:\n",
    "    df = downcast(df)"
   ]
  },
  {
   "cell_type": "markdown",
   "metadata": {},
   "source": [
    "## 데이터 전처리"
   ]
  },
  {
   "cell_type": "markdown",
   "metadata": {},
   "source": [
    "### sales_train"
   ]
  },
  {
   "cell_type": "code",
   "execution_count": 80,
   "metadata": {},
   "outputs": [],
   "source": [
    "# 이상치 제거\n",
    "sales_train = sales_train[sales_train['판매가'] > 0]\n",
    "sales_train = sales_train[sales_train['판매가'] < 50000]\n",
    "sales_train = sales_train[sales_train['판매량'] > 0]\n",
    "sales_train = sales_train[sales_train['판매량'] < 1000]"
   ]
  },
  {
   "cell_type": "code",
   "execution_count": 81,
   "metadata": {},
   "outputs": [
    {
     "name": "stdout",
     "output_type": "stream",
     "text": [
      "!Якутск Орджоникидзе, 56 фран || Якутск Орджоникидзе, 56\n"
     ]
    }
   ],
   "source": [
    "# 중복상점명 제거 -> 예시\n",
    "\n",
    "print(shops['상점명'][0], '||', shops['상점명'][57])"
   ]
  },
  {
   "cell_type": "code",
   "execution_count": 82,
   "metadata": {},
   "outputs": [],
   "source": [
    "sales_train.loc[sales_train['상점ID'] == 0, '상점ID'] = 57\n",
    "sales_train.loc[sales_train['상점ID'] == 1, '상점ID'] = 58\n",
    "sales_train.loc[sales_train['상점ID'] == 10, '상점ID'] = 11\n",
    "sales_train.loc[sales_train['상점ID'] == 39, '상점ID'] = 40\n",
    "\n",
    "test.loc[test['상점ID'] == 0, '상점ID'] = 57\n",
    "test.loc[test['상점ID'] == 1, '상점ID'] = 58\n",
    "test.loc[test['상점ID'] == 10, '상점ID'] = 11\n",
    "test.loc[test['상점ID'] == 39, '상점ID'] = 40"
   ]
  },
  {
   "cell_type": "code",
   "execution_count": 83,
   "metadata": {},
   "outputs": [
    {
     "data": {
      "text/plain": [
       "array(['!Якутск', 'Адыгея', 'Балашиха', 'Волжский', 'Вологда', 'Воронеж',\n",
       "       'Выездная', 'Жуковский', 'Интернет-магазин', 'Казань', 'Калуга',\n",
       "       'Коломна', 'Красноярск', 'Курск', 'Москва', 'Мытищи', 'Н.Новгород',\n",
       "       'Новосибирск', 'Омск', 'РостовНаДону', 'СПб', 'Самара', 'Сергиев',\n",
       "       'Сургут', 'Томск', 'Тюмень', 'Уфа', 'Химки', 'Цифровой', 'Чехов',\n",
       "       'Якутск', 'Ярославль'], dtype=object)"
      ]
     },
     "execution_count": 83,
     "metadata": {},
     "output_type": "execute_result"
    }
   ],
   "source": [
    "shops['도시'] = shops['상점명'].apply(lambda x: x.split()[0])\n",
    "shops['도시'].unique()"
   ]
  },
  {
   "cell_type": "code",
   "execution_count": 84,
   "metadata": {},
   "outputs": [],
   "source": [
    "shops.loc[shops['도시'] == '!Якутск', '도시'] = 'Якутск'"
   ]
  },
  {
   "cell_type": "markdown",
   "metadata": {},
   "source": [
    "### shops"
   ]
  },
  {
   "cell_type": "code",
   "execution_count": 85,
   "metadata": {},
   "outputs": [],
   "source": [
    "from sklearn.preprocessing import LabelEncoder\n",
    "\n",
    "label_encoder = LabelEncoder()\n",
    "shops['도시'] = label_encoder.fit_transform(shops['도시'])"
   ]
  },
  {
   "cell_type": "code",
   "execution_count": 86,
   "metadata": {},
   "outputs": [
    {
     "data": {
      "text/html": [
       "<div>\n",
       "<style scoped>\n",
       "    .dataframe tbody tr th:only-of-type {\n",
       "        vertical-align: middle;\n",
       "    }\n",
       "\n",
       "    .dataframe tbody tr th {\n",
       "        vertical-align: top;\n",
       "    }\n",
       "\n",
       "    .dataframe thead th {\n",
       "        text-align: right;\n",
       "    }\n",
       "</style>\n",
       "<table border=\"1\" class=\"dataframe\">\n",
       "  <thead>\n",
       "    <tr style=\"text-align: right;\">\n",
       "      <th></th>\n",
       "      <th>상점ID</th>\n",
       "      <th>도시</th>\n",
       "    </tr>\n",
       "  </thead>\n",
       "  <tbody>\n",
       "    <tr>\n",
       "      <th>0</th>\n",
       "      <td>0</td>\n",
       "      <td>29</td>\n",
       "    </tr>\n",
       "    <tr>\n",
       "      <th>1</th>\n",
       "      <td>1</td>\n",
       "      <td>29</td>\n",
       "    </tr>\n",
       "    <tr>\n",
       "      <th>2</th>\n",
       "      <td>2</td>\n",
       "      <td>0</td>\n",
       "    </tr>\n",
       "    <tr>\n",
       "      <th>3</th>\n",
       "      <td>3</td>\n",
       "      <td>1</td>\n",
       "    </tr>\n",
       "    <tr>\n",
       "      <th>4</th>\n",
       "      <td>4</td>\n",
       "      <td>2</td>\n",
       "    </tr>\n",
       "  </tbody>\n",
       "</table>\n",
       "</div>"
      ],
      "text/plain": [
       "   상점ID  도시\n",
       "0     0  29\n",
       "1     1  29\n",
       "2     2   0\n",
       "3     3   1\n",
       "4     4   2"
      ]
     },
     "execution_count": 86,
     "metadata": {},
     "output_type": "execute_result"
    }
   ],
   "source": [
    "shops = shops.drop('상점명', axis = 1)\n",
    "shops.head()"
   ]
  },
  {
   "cell_type": "markdown",
   "metadata": {},
   "source": [
    "### items"
   ]
  },
  {
   "cell_type": "code",
   "execution_count": 87,
   "metadata": {},
   "outputs": [
    {
     "data": {
      "text/html": [
       "<div>\n",
       "<style scoped>\n",
       "    .dataframe tbody tr th:only-of-type {\n",
       "        vertical-align: middle;\n",
       "    }\n",
       "\n",
       "    .dataframe tbody tr th {\n",
       "        vertical-align: top;\n",
       "    }\n",
       "\n",
       "    .dataframe thead th {\n",
       "        text-align: right;\n",
       "    }\n",
       "</style>\n",
       "<table border=\"1\" class=\"dataframe\">\n",
       "  <thead>\n",
       "    <tr style=\"text-align: right;\">\n",
       "      <th></th>\n",
       "      <th>상품ID</th>\n",
       "      <th>상품분류ID</th>\n",
       "      <th>첫 판매월</th>\n",
       "    </tr>\n",
       "  </thead>\n",
       "  <tbody>\n",
       "    <tr>\n",
       "      <th>0</th>\n",
       "      <td>0</td>\n",
       "      <td>40</td>\n",
       "      <td>20.0</td>\n",
       "    </tr>\n",
       "    <tr>\n",
       "      <th>1</th>\n",
       "      <td>1</td>\n",
       "      <td>76</td>\n",
       "      <td>15.0</td>\n",
       "    </tr>\n",
       "    <tr>\n",
       "      <th>2</th>\n",
       "      <td>2</td>\n",
       "      <td>40</td>\n",
       "      <td>19.0</td>\n",
       "    </tr>\n",
       "    <tr>\n",
       "      <th>3</th>\n",
       "      <td>3</td>\n",
       "      <td>40</td>\n",
       "      <td>18.0</td>\n",
       "    </tr>\n",
       "    <tr>\n",
       "      <th>4</th>\n",
       "      <td>4</td>\n",
       "      <td>40</td>\n",
       "      <td>20.0</td>\n",
       "    </tr>\n",
       "  </tbody>\n",
       "</table>\n",
       "</div>"
      ],
      "text/plain": [
       "   상품ID  상품분류ID  첫 판매월\n",
       "0     0      40   20.0\n",
       "1     1      76   15.0\n",
       "2     2      40   19.0\n",
       "3     3      40   18.0\n",
       "4     4      40   20.0"
      ]
     },
     "execution_count": 87,
     "metadata": {},
     "output_type": "execute_result"
    }
   ],
   "source": [
    "items = items.drop(['상품명'], axis = 1)\n",
    "items['첫 판매월'] = sales_train.groupby('상품ID'). agg({'월ID': 'min'})['월ID']\n",
    "\n",
    "items.head()"
   ]
  },
  {
   "cell_type": "code",
   "execution_count": 88,
   "metadata": {},
   "outputs": [
    {
     "data": {
      "text/html": [
       "<div>\n",
       "<style scoped>\n",
       "    .dataframe tbody tr th:only-of-type {\n",
       "        vertical-align: middle;\n",
       "    }\n",
       "\n",
       "    .dataframe tbody tr th {\n",
       "        vertical-align: top;\n",
       "    }\n",
       "\n",
       "    .dataframe thead th {\n",
       "        text-align: right;\n",
       "    }\n",
       "</style>\n",
       "<table border=\"1\" class=\"dataframe\">\n",
       "  <thead>\n",
       "    <tr style=\"text-align: right;\">\n",
       "      <th></th>\n",
       "      <th>상품ID</th>\n",
       "      <th>상품분류ID</th>\n",
       "      <th>첫 판매월</th>\n",
       "    </tr>\n",
       "  </thead>\n",
       "  <tbody>\n",
       "    <tr>\n",
       "      <th>83</th>\n",
       "      <td>83</td>\n",
       "      <td>40</td>\n",
       "      <td>NaN</td>\n",
       "    </tr>\n",
       "    <tr>\n",
       "      <th>140</th>\n",
       "      <td>140</td>\n",
       "      <td>45</td>\n",
       "      <td>NaN</td>\n",
       "    </tr>\n",
       "    <tr>\n",
       "      <th>168</th>\n",
       "      <td>168</td>\n",
       "      <td>44</td>\n",
       "      <td>NaN</td>\n",
       "    </tr>\n",
       "    <tr>\n",
       "      <th>173</th>\n",
       "      <td>173</td>\n",
       "      <td>45</td>\n",
       "      <td>NaN</td>\n",
       "    </tr>\n",
       "    <tr>\n",
       "      <th>204</th>\n",
       "      <td>204</td>\n",
       "      <td>44</td>\n",
       "      <td>NaN</td>\n",
       "    </tr>\n",
       "    <tr>\n",
       "      <th>...</th>\n",
       "      <td>...</td>\n",
       "      <td>...</td>\n",
       "      <td>...</td>\n",
       "    </tr>\n",
       "    <tr>\n",
       "      <th>21974</th>\n",
       "      <td>21974</td>\n",
       "      <td>61</td>\n",
       "      <td>NaN</td>\n",
       "    </tr>\n",
       "    <tr>\n",
       "      <th>21975</th>\n",
       "      <td>21975</td>\n",
       "      <td>61</td>\n",
       "      <td>NaN</td>\n",
       "    </tr>\n",
       "    <tr>\n",
       "      <th>22022</th>\n",
       "      <td>22022</td>\n",
       "      <td>40</td>\n",
       "      <td>NaN</td>\n",
       "    </tr>\n",
       "    <tr>\n",
       "      <th>22035</th>\n",
       "      <td>22035</td>\n",
       "      <td>40</td>\n",
       "      <td>NaN</td>\n",
       "    </tr>\n",
       "    <tr>\n",
       "      <th>22137</th>\n",
       "      <td>22137</td>\n",
       "      <td>40</td>\n",
       "      <td>NaN</td>\n",
       "    </tr>\n",
       "  </tbody>\n",
       "</table>\n",
       "<p>368 rows × 3 columns</p>\n",
       "</div>"
      ],
      "text/plain": [
       "        상품ID  상품분류ID  첫 판매월\n",
       "83        83      40    NaN\n",
       "140      140      45    NaN\n",
       "168      168      44    NaN\n",
       "173      173      45    NaN\n",
       "204      204      44    NaN\n",
       "...      ...     ...    ...\n",
       "21974  21974      61    NaN\n",
       "21975  21975      61    NaN\n",
       "22022  22022      40    NaN\n",
       "22035  22035      40    NaN\n",
       "22137  22137      40    NaN\n",
       "\n",
       "[368 rows x 3 columns]"
      ]
     },
     "execution_count": 88,
     "metadata": {},
     "output_type": "execute_result"
    }
   ],
   "source": [
    "items[items['첫 판매월'].isna()]"
   ]
  },
  {
   "cell_type": "code",
   "execution_count": 89,
   "metadata": {},
   "outputs": [],
   "source": [
    "# 결측치는 마지막날의 데이터\n",
    "items['첫 판매월'] = items['첫 판매월'].fillna(34)"
   ]
  },
  {
   "cell_type": "markdown",
   "metadata": {},
   "source": [
    "### item_categories"
   ]
  },
  {
   "cell_type": "code",
   "execution_count": 90,
   "metadata": {},
   "outputs": [],
   "source": [
    "item_categories['대분류'] = item_categories['상품분류명'].apply(lambda x: x.split()[0])"
   ]
  },
  {
   "cell_type": "code",
   "execution_count": 91,
   "metadata": {},
   "outputs": [
    {
     "data": {
      "text/plain": [
       "대분류\n",
       "Игры          14\n",
       "Книги         13\n",
       "Подарки       12\n",
       "Игровые        8\n",
       "Аксессуары     7\n",
       "Музыка         6\n",
       "Программы      6\n",
       "Карты          5\n",
       "Кино           5\n",
       "Служебные      2\n",
       "Чистые         2\n",
       "PC             1\n",
       "Билеты         1\n",
       "Доставка       1\n",
       "Элементы       1\n",
       "Name: count, dtype: int64"
      ]
     },
     "execution_count": 91,
     "metadata": {},
     "output_type": "execute_result"
    }
   ],
   "source": [
    "item_categories['대분류'].value_counts()"
   ]
  },
  {
   "cell_type": "code",
   "execution_count": 92,
   "metadata": {},
   "outputs": [],
   "source": [
    "# apply 함수의 변형\n",
    "def make_etc(x):\n",
    "    if len(item_categories[item_categories['대분류']==x]) >= 5:\n",
    "        return x\n",
    "    else:\n",
    "        return 'etc'\n",
    "    \n",
    "item_categories['대분류'] = item_categories['대분류'].apply(make_etc)"
   ]
  },
  {
   "cell_type": "code",
   "execution_count": 93,
   "metadata": {},
   "outputs": [],
   "source": [
    "label_encoder = LabelEncoder()\n",
    "\n",
    "item_categories['대분류'] = \\\n",
    "label_encoder.fit_transform(item_categories['대분류'])"
   ]
  },
  {
   "cell_type": "code",
   "execution_count": 94,
   "metadata": {},
   "outputs": [],
   "source": [
    "item_categories = item_categories.drop('상품분류명', axis=1)"
   ]
  },
  {
   "cell_type": "markdown",
   "metadata": {},
   "source": [
    "## 데이터 조합 및 파생 피쳐"
   ]
  },
  {
   "cell_type": "markdown",
   "metadata": {},
   "source": [
    "### merge"
   ]
  },
  {
   "cell_type": "code",
   "execution_count": 95,
   "metadata": {},
   "outputs": [],
   "source": [
    "from itertools import product\n",
    "\n",
    "train = []\n",
    "\n",
    "for i in sales_train['월ID'].unique():\n",
    "    all_shop = sales_train.loc[sales_train['월ID'] == i, '상점ID'].unique()\n",
    "    all_item = sales_train.loc[sales_train['월ID'] == i, '상품ID'].unique()\n",
    "    train.append(np.array(list(product([i], all_shop, all_item))))\n",
    "\n",
    "idx_features = ['월ID', '상점ID', '상품ID']\n",
    "train = pd.DataFrame(np.vstack(train), columns= idx_features)"
   ]
  },
  {
   "cell_type": "code",
   "execution_count": 96,
   "metadata": {},
   "outputs": [
    {
     "data": {
      "text/html": [
       "<div>\n",
       "<style scoped>\n",
       "    .dataframe tbody tr th:only-of-type {\n",
       "        vertical-align: middle;\n",
       "    }\n",
       "\n",
       "    .dataframe tbody tr th {\n",
       "        vertical-align: top;\n",
       "    }\n",
       "\n",
       "    .dataframe thead th {\n",
       "        text-align: right;\n",
       "    }\n",
       "</style>\n",
       "<table border=\"1\" class=\"dataframe\">\n",
       "  <thead>\n",
       "    <tr style=\"text-align: right;\">\n",
       "      <th></th>\n",
       "      <th>월ID</th>\n",
       "      <th>상점ID</th>\n",
       "      <th>상품ID</th>\n",
       "      <th>월간판매량</th>\n",
       "      <th>평균 판매가</th>\n",
       "    </tr>\n",
       "  </thead>\n",
       "  <tbody>\n",
       "    <tr>\n",
       "      <th>0</th>\n",
       "      <td>0</td>\n",
       "      <td>59</td>\n",
       "      <td>22154</td>\n",
       "      <td>1.0</td>\n",
       "      <td>999.0</td>\n",
       "    </tr>\n",
       "    <tr>\n",
       "      <th>1</th>\n",
       "      <td>0</td>\n",
       "      <td>59</td>\n",
       "      <td>2552</td>\n",
       "      <td>NaN</td>\n",
       "      <td>NaN</td>\n",
       "    </tr>\n",
       "    <tr>\n",
       "      <th>2</th>\n",
       "      <td>0</td>\n",
       "      <td>59</td>\n",
       "      <td>2554</td>\n",
       "      <td>NaN</td>\n",
       "      <td>NaN</td>\n",
       "    </tr>\n",
       "    <tr>\n",
       "      <th>3</th>\n",
       "      <td>0</td>\n",
       "      <td>59</td>\n",
       "      <td>2555</td>\n",
       "      <td>NaN</td>\n",
       "      <td>NaN</td>\n",
       "    </tr>\n",
       "    <tr>\n",
       "      <th>4</th>\n",
       "      <td>0</td>\n",
       "      <td>59</td>\n",
       "      <td>2564</td>\n",
       "      <td>NaN</td>\n",
       "      <td>NaN</td>\n",
       "    </tr>\n",
       "  </tbody>\n",
       "</table>\n",
       "</div>"
      ],
      "text/plain": [
       "   월ID  상점ID   상품ID  월간판매량  평균 판매가\n",
       "0    0    59  22154    1.0   999.0\n",
       "1    0    59   2552    NaN     NaN\n",
       "2    0    59   2554    NaN     NaN\n",
       "3    0    59   2555    NaN     NaN\n",
       "4    0    59   2564    NaN     NaN"
      ]
     },
     "execution_count": 96,
     "metadata": {},
     "output_type": "execute_result"
    }
   ],
   "source": [
    "group = sales_train.groupby(idx_features).agg({'판매량': 'sum',\n",
    "                                               '판매가': 'mean'})\n",
    "\n",
    "group = group.reset_index()\n",
    "group = group.rename(columns={'판매량': '월간판매량', '판매가': '평균 판매가'})\n",
    "train = train.merge(group, on=idx_features, how='left')\n",
    "\n",
    "train.head()"
   ]
  },
  {
   "cell_type": "code",
   "execution_count": 97,
   "metadata": {},
   "outputs": [
    {
     "data": {
      "text/plain": [
       "187"
      ]
     },
     "execution_count": 97,
     "metadata": {},
     "output_type": "execute_result"
    }
   ],
   "source": [
    "import gc\n",
    "del group\n",
    "gc.collect()"
   ]
  },
  {
   "cell_type": "code",
   "execution_count": 98,
   "metadata": {},
   "outputs": [
    {
     "data": {
      "text/html": [
       "<div>\n",
       "<style scoped>\n",
       "    .dataframe tbody tr th:only-of-type {\n",
       "        vertical-align: middle;\n",
       "    }\n",
       "\n",
       "    .dataframe tbody tr th {\n",
       "        vertical-align: top;\n",
       "    }\n",
       "\n",
       "    .dataframe thead th {\n",
       "        text-align: right;\n",
       "    }\n",
       "</style>\n",
       "<table border=\"1\" class=\"dataframe\">\n",
       "  <thead>\n",
       "    <tr style=\"text-align: right;\">\n",
       "      <th></th>\n",
       "      <th>월ID</th>\n",
       "      <th>상점ID</th>\n",
       "      <th>상품ID</th>\n",
       "      <th>월간판매량</th>\n",
       "      <th>평균 판매가</th>\n",
       "      <th>판매건수</th>\n",
       "    </tr>\n",
       "  </thead>\n",
       "  <tbody>\n",
       "    <tr>\n",
       "      <th>0</th>\n",
       "      <td>0</td>\n",
       "      <td>59</td>\n",
       "      <td>22154</td>\n",
       "      <td>1.0</td>\n",
       "      <td>999.0</td>\n",
       "      <td>1.0</td>\n",
       "    </tr>\n",
       "    <tr>\n",
       "      <th>1</th>\n",
       "      <td>0</td>\n",
       "      <td>59</td>\n",
       "      <td>2552</td>\n",
       "      <td>NaN</td>\n",
       "      <td>NaN</td>\n",
       "      <td>NaN</td>\n",
       "    </tr>\n",
       "    <tr>\n",
       "      <th>2</th>\n",
       "      <td>0</td>\n",
       "      <td>59</td>\n",
       "      <td>2554</td>\n",
       "      <td>NaN</td>\n",
       "      <td>NaN</td>\n",
       "      <td>NaN</td>\n",
       "    </tr>\n",
       "    <tr>\n",
       "      <th>3</th>\n",
       "      <td>0</td>\n",
       "      <td>59</td>\n",
       "      <td>2555</td>\n",
       "      <td>NaN</td>\n",
       "      <td>NaN</td>\n",
       "      <td>NaN</td>\n",
       "    </tr>\n",
       "    <tr>\n",
       "      <th>4</th>\n",
       "      <td>0</td>\n",
       "      <td>59</td>\n",
       "      <td>2564</td>\n",
       "      <td>NaN</td>\n",
       "      <td>NaN</td>\n",
       "      <td>NaN</td>\n",
       "    </tr>\n",
       "  </tbody>\n",
       "</table>\n",
       "</div>"
      ],
      "text/plain": [
       "   월ID  상점ID   상품ID  월간판매량  평균 판매가  판매건수\n",
       "0    0    59  22154    1.0   999.0   1.0\n",
       "1    0    59   2552    NaN     NaN   NaN\n",
       "2    0    59   2554    NaN     NaN   NaN\n",
       "3    0    59   2555    NaN     NaN   NaN\n",
       "4    0    59   2564    NaN     NaN   NaN"
      ]
     },
     "execution_count": 98,
     "metadata": {},
     "output_type": "execute_result"
    }
   ],
   "source": [
    "group = sales_train.groupby(idx_features).agg({'판매량': 'count'})\n",
    "group = group.reset_index()\n",
    "group = group.rename(columns={'판매량':'판매건수'})\n",
    "\n",
    "train = train.merge(group, on=idx_features, how='left')\n",
    "\n",
    "del group, sales_train\n",
    "gc.collect()\n",
    "\n",
    "train.head()"
   ]
  },
  {
   "cell_type": "code",
   "execution_count": 99,
   "metadata": {},
   "outputs": [
    {
     "data": {
      "text/html": [
       "<div>\n",
       "<style scoped>\n",
       "    .dataframe tbody tr th:only-of-type {\n",
       "        vertical-align: middle;\n",
       "    }\n",
       "\n",
       "    .dataframe tbody tr th {\n",
       "        vertical-align: top;\n",
       "    }\n",
       "\n",
       "    .dataframe thead th {\n",
       "        text-align: right;\n",
       "    }\n",
       "</style>\n",
       "<table border=\"1\" class=\"dataframe\">\n",
       "  <thead>\n",
       "    <tr style=\"text-align: right;\">\n",
       "      <th></th>\n",
       "      <th>월ID</th>\n",
       "      <th>상점ID</th>\n",
       "      <th>상품ID</th>\n",
       "      <th>월간판매량</th>\n",
       "      <th>평균 판매가</th>\n",
       "      <th>판매건수</th>\n",
       "    </tr>\n",
       "  </thead>\n",
       "  <tbody>\n",
       "    <tr>\n",
       "      <th>0</th>\n",
       "      <td>0</td>\n",
       "      <td>59</td>\n",
       "      <td>22154</td>\n",
       "      <td>1.0</td>\n",
       "      <td>999.0</td>\n",
       "      <td>1.0</td>\n",
       "    </tr>\n",
       "    <tr>\n",
       "      <th>1</th>\n",
       "      <td>0</td>\n",
       "      <td>59</td>\n",
       "      <td>2552</td>\n",
       "      <td>0.0</td>\n",
       "      <td>0.0</td>\n",
       "      <td>0.0</td>\n",
       "    </tr>\n",
       "    <tr>\n",
       "      <th>2</th>\n",
       "      <td>0</td>\n",
       "      <td>59</td>\n",
       "      <td>2554</td>\n",
       "      <td>0.0</td>\n",
       "      <td>0.0</td>\n",
       "      <td>0.0</td>\n",
       "    </tr>\n",
       "    <tr>\n",
       "      <th>3</th>\n",
       "      <td>0</td>\n",
       "      <td>59</td>\n",
       "      <td>2555</td>\n",
       "      <td>0.0</td>\n",
       "      <td>0.0</td>\n",
       "      <td>0.0</td>\n",
       "    </tr>\n",
       "    <tr>\n",
       "      <th>4</th>\n",
       "      <td>0</td>\n",
       "      <td>59</td>\n",
       "      <td>2564</td>\n",
       "      <td>0.0</td>\n",
       "      <td>0.0</td>\n",
       "      <td>0.0</td>\n",
       "    </tr>\n",
       "  </tbody>\n",
       "</table>\n",
       "</div>"
      ],
      "text/plain": [
       "   월ID  상점ID   상품ID  월간판매량  평균 판매가  판매건수\n",
       "0    0    59  22154    1.0   999.0   1.0\n",
       "1    0    59   2552    0.0     0.0   0.0\n",
       "2    0    59   2554    0.0     0.0   0.0\n",
       "3    0    59   2555    0.0     0.0   0.0\n",
       "4    0    59   2564    0.0     0.0   0.0"
      ]
     },
     "execution_count": 99,
     "metadata": {},
     "output_type": "execute_result"
    }
   ],
   "source": [
    "test['월ID'] = 34\n",
    "\n",
    "all_data = pd.concat([train, test.drop('ID', axis=1)],\n",
    "                     ignore_index=True,\n",
    "                     keys=idx_features)\n",
    "\n",
    "all_data = all_data.fillna(0)\n",
    "\n",
    "all_data.head()"
   ]
  },
  {
   "cell_type": "code",
   "execution_count": 100,
   "metadata": {},
   "outputs": [
    {
     "name": "stdout",
     "output_type": "stream",
     "text": [
      "68.9% 압축됨\n"
     ]
    }
   ],
   "source": [
    "all_data = all_data.merge(shops, on='상점ID', how='left')\n",
    "all_data = all_data.merge(items, on='상품ID', how='left')\n",
    "all_data = all_data.merge(item_categories, on='상품분류ID', how='left')\n",
    "\n",
    "all_data = downcast(all_data)"
   ]
  },
  {
   "cell_type": "code",
   "execution_count": 101,
   "metadata": {},
   "outputs": [
    {
     "data": {
      "text/plain": [
       "0"
      ]
     },
     "execution_count": 101,
     "metadata": {},
     "output_type": "execute_result"
    }
   ],
   "source": [
    "del shops, items, item_categories\n",
    "gc.collect()"
   ]
  },
  {
   "cell_type": "markdown",
   "metadata": {},
   "source": [
    "### 시차 피처 생성"
   ]
  },
  {
   "cell_type": "code",
   "execution_count": 102,
   "metadata": {},
   "outputs": [],
   "source": [
    "def add_mean_features(df, mean_features, idx_features):\n",
    "    assert (idx_features[0] == '월ID') and \\\n",
    "    len(idx_features) in [2,3] # 기준 피쳐 개수 확인\n",
    "\n",
    "    # 파생피쳐명 생성\n",
    "    if len(idx_features) == 2:\n",
    "        feature_name  = idx_features[1] + \"별 평균 판매량\"\n",
    "    else:\n",
    "        feature_name = idx_features[1] + \" \" + idx_features[2] + '별 평균 판매량'\n",
    "\n",
    "    # 기준 피쳐 기준 그룹화\n",
    "    group = df.groupby(idx_features).agg({'월간판매량':'mean'})\n",
    "    group = group.reset_index()\n",
    "    group = group.rename(columns={'월간판매량': feature_name})\n",
    "\n",
    "    # df와 group merge\n",
    "    df = df.merge(group, on=idx_features, how='left')\n",
    "    df = downcast(df, verbose=False)\n",
    "\n",
    "    mean_features.append(feature_name)\n",
    "\n",
    "    # 가비지 컬렉션\n",
    "    del group\n",
    "    gc.collect()\n",
    "\n",
    "    return df, mean_features\n"
   ]
  },
  {
   "cell_type": "code",
   "execution_count": 103,
   "metadata": {},
   "outputs": [],
   "source": [
    "item_mean_features = []\n",
    "\n",
    "all_data, item_mean_features = add_mean_features(all_data,\n",
    "                                                 mean_features=item_mean_features,\n",
    "                                                 idx_features=['월ID', '상품ID'])\n",
    "\n",
    "all_data, item_mean_features = add_mean_features(all_data,\n",
    "                                                 mean_features=item_mean_features,\n",
    "                                                 idx_features=['월ID', '상품ID', '도시'])"
   ]
  },
  {
   "cell_type": "code",
   "execution_count": 104,
   "metadata": {},
   "outputs": [],
   "source": [
    "shop_mean_features = []\n",
    "\n",
    "all_data, shop_mean_features = add_mean_features(all_data,\n",
    "                                                 mean_features=shop_mean_features,\n",
    "                                                 idx_features=['월ID', '상점ID', '상품분류ID'])"
   ]
  },
  {
   "cell_type": "code",
   "execution_count": 105,
   "metadata": {},
   "outputs": [
    {
     "data": {
      "text/plain": [
       "['상품ID별 평균 판매량', '상품ID 도시별 평균 판매량']"
      ]
     },
     "execution_count": 105,
     "metadata": {},
     "output_type": "execute_result"
    }
   ],
   "source": [
    "item_mean_features"
   ]
  },
  {
   "cell_type": "code",
   "execution_count": 106,
   "metadata": {},
   "outputs": [
    {
     "data": {
      "text/plain": [
       "['상점ID 상품분류ID별 평균 판매량']"
      ]
     },
     "execution_count": 106,
     "metadata": {},
     "output_type": "execute_result"
    }
   ],
   "source": [
    "shop_mean_features"
   ]
  },
  {
   "cell_type": "code",
   "execution_count": 109,
   "metadata": {},
   "outputs": [],
   "source": [
    "def add_lag_features(df, lag_features_to_clip,\n",
    "                     idx_features, lag_feature, nlags=3, clip=False):\n",
    "    missing_cols = [col for col in idx_features + [lag_feature] if col not in df.columns]\n",
    "    if missing_cols:\n",
    "        raise ValueError(f\"Missing columns in the dataframe: {missing_cols}\")\n",
    "\n",
    "    df_temp = df[idx_features + [lag_feature]].copy()\n",
    "\n",
    "    for i in range(1, nlags + 1):\n",
    "        lag_feature_name = lag_feature + \"_시차\" + str(i)\n",
    "        df_temp.columns = idx_features + [lag_feature_name]\n",
    "        df_temp['월ID'] += 1\n",
    "        df = df.merge(df_temp.drop_duplicates(), on=idx_features, how='left')\n",
    "\n",
    "        df[lag_feature_name] = df[lag_feature_name].fillna(0)\n",
    "        if clip:\n",
    "            lag_features_to_clip.append(lag_feature_name)\n",
    "        df = downcast(df, False)\n",
    "\n",
    "    del df_temp\n",
    "    gc.collect()\n",
    "\n",
    "    return df, lag_features_to_clip"
   ]
  },
  {
   "cell_type": "code",
   "execution_count": 110,
   "metadata": {},
   "outputs": [],
   "source": [
    "lag_features_to_clip = []\n",
    "idx_features = ['월ID', '상점ID', '상품ID']\n",
    "\n",
    "all_data, lag_features_to_clip = add_lag_features(df=all_data,\n",
    "                                                  lag_features_to_clip=lag_features_to_clip,\n",
    "                                                  idx_features=idx_features,\n",
    "                                                  lag_feature='월간판매량',\n",
    "                                                  nlags=3,\n",
    "                                                  clip=True)"
   ]
  },
  {
   "cell_type": "code",
   "execution_count": 111,
   "metadata": {},
   "outputs": [
    {
     "data": {
      "text/html": [
       "<div>\n",
       "<style scoped>\n",
       "    .dataframe tbody tr th:only-of-type {\n",
       "        vertical-align: middle;\n",
       "    }\n",
       "\n",
       "    .dataframe tbody tr th {\n",
       "        vertical-align: top;\n",
       "    }\n",
       "\n",
       "    .dataframe thead th {\n",
       "        text-align: right;\n",
       "    }\n",
       "</style>\n",
       "<table border=\"1\" class=\"dataframe\">\n",
       "  <thead>\n",
       "    <tr style=\"text-align: right;\">\n",
       "      <th></th>\n",
       "      <th>0</th>\n",
       "      <th>1</th>\n",
       "      <th>2</th>\n",
       "      <th>3</th>\n",
       "      <th>4</th>\n",
       "    </tr>\n",
       "  </thead>\n",
       "  <tbody>\n",
       "    <tr>\n",
       "      <th>월ID</th>\n",
       "      <td>0.000000</td>\n",
       "      <td>0.000000</td>\n",
       "      <td>0.000000</td>\n",
       "      <td>0.000000</td>\n",
       "      <td>0.000000</td>\n",
       "    </tr>\n",
       "    <tr>\n",
       "      <th>상점ID</th>\n",
       "      <td>59.000000</td>\n",
       "      <td>59.000000</td>\n",
       "      <td>59.000000</td>\n",
       "      <td>59.000000</td>\n",
       "      <td>59.000000</td>\n",
       "    </tr>\n",
       "    <tr>\n",
       "      <th>상품ID</th>\n",
       "      <td>22154.000000</td>\n",
       "      <td>2552.000000</td>\n",
       "      <td>2554.000000</td>\n",
       "      <td>2555.000000</td>\n",
       "      <td>2564.000000</td>\n",
       "    </tr>\n",
       "    <tr>\n",
       "      <th>월간판매량</th>\n",
       "      <td>1.000000</td>\n",
       "      <td>0.000000</td>\n",
       "      <td>0.000000</td>\n",
       "      <td>0.000000</td>\n",
       "      <td>0.000000</td>\n",
       "    </tr>\n",
       "    <tr>\n",
       "      <th>평균 판매가</th>\n",
       "      <td>999.000000</td>\n",
       "      <td>0.000000</td>\n",
       "      <td>0.000000</td>\n",
       "      <td>0.000000</td>\n",
       "      <td>0.000000</td>\n",
       "    </tr>\n",
       "    <tr>\n",
       "      <th>판매건수</th>\n",
       "      <td>1.000000</td>\n",
       "      <td>0.000000</td>\n",
       "      <td>0.000000</td>\n",
       "      <td>0.000000</td>\n",
       "      <td>0.000000</td>\n",
       "    </tr>\n",
       "    <tr>\n",
       "      <th>도시</th>\n",
       "      <td>30.000000</td>\n",
       "      <td>30.000000</td>\n",
       "      <td>30.000000</td>\n",
       "      <td>30.000000</td>\n",
       "      <td>30.000000</td>\n",
       "    </tr>\n",
       "    <tr>\n",
       "      <th>상품분류ID</th>\n",
       "      <td>37.000000</td>\n",
       "      <td>58.000000</td>\n",
       "      <td>58.000000</td>\n",
       "      <td>56.000000</td>\n",
       "      <td>59.000000</td>\n",
       "    </tr>\n",
       "    <tr>\n",
       "      <th>첫 판매월</th>\n",
       "      <td>0.000000</td>\n",
       "      <td>0.000000</td>\n",
       "      <td>0.000000</td>\n",
       "      <td>0.000000</td>\n",
       "      <td>0.000000</td>\n",
       "    </tr>\n",
       "    <tr>\n",
       "      <th>대분류</th>\n",
       "      <td>5.000000</td>\n",
       "      <td>7.000000</td>\n",
       "      <td>7.000000</td>\n",
       "      <td>7.000000</td>\n",
       "      <td>7.000000</td>\n",
       "    </tr>\n",
       "    <tr>\n",
       "      <th>상품ID별 평균 판매량</th>\n",
       "      <td>0.400000</td>\n",
       "      <td>0.022222</td>\n",
       "      <td>0.022222</td>\n",
       "      <td>0.044444</td>\n",
       "      <td>0.111111</td>\n",
       "    </tr>\n",
       "    <tr>\n",
       "      <th>상품ID 도시별 평균 판매량</th>\n",
       "      <td>1.000000</td>\n",
       "      <td>0.000000</td>\n",
       "      <td>0.000000</td>\n",
       "      <td>0.000000</td>\n",
       "      <td>0.000000</td>\n",
       "    </tr>\n",
       "    <tr>\n",
       "      <th>상점ID 상품분류ID별 평균 판매량</th>\n",
       "      <td>0.088496</td>\n",
       "      <td>0.000000</td>\n",
       "      <td>0.000000</td>\n",
       "      <td>0.008333</td>\n",
       "      <td>0.011976</td>\n",
       "    </tr>\n",
       "    <tr>\n",
       "      <th>월간판매량_시차1</th>\n",
       "      <td>0.000000</td>\n",
       "      <td>0.000000</td>\n",
       "      <td>0.000000</td>\n",
       "      <td>0.000000</td>\n",
       "      <td>0.000000</td>\n",
       "    </tr>\n",
       "    <tr>\n",
       "      <th>월간판매량_시차2</th>\n",
       "      <td>0.000000</td>\n",
       "      <td>0.000000</td>\n",
       "      <td>0.000000</td>\n",
       "      <td>0.000000</td>\n",
       "      <td>0.000000</td>\n",
       "    </tr>\n",
       "    <tr>\n",
       "      <th>월간판매량_시차3</th>\n",
       "      <td>0.000000</td>\n",
       "      <td>0.000000</td>\n",
       "      <td>0.000000</td>\n",
       "      <td>0.000000</td>\n",
       "      <td>0.000000</td>\n",
       "    </tr>\n",
       "  </tbody>\n",
       "</table>\n",
       "</div>"
      ],
      "text/plain": [
       "                                0            1            2            3  \\\n",
       "월ID                      0.000000     0.000000     0.000000     0.000000   \n",
       "상점ID                    59.000000    59.000000    59.000000    59.000000   \n",
       "상품ID                 22154.000000  2552.000000  2554.000000  2555.000000   \n",
       "월간판매량                    1.000000     0.000000     0.000000     0.000000   \n",
       "평균 판매가                 999.000000     0.000000     0.000000     0.000000   \n",
       "판매건수                     1.000000     0.000000     0.000000     0.000000   \n",
       "도시                      30.000000    30.000000    30.000000    30.000000   \n",
       "상품분류ID                  37.000000    58.000000    58.000000    56.000000   \n",
       "첫 판매월                    0.000000     0.000000     0.000000     0.000000   \n",
       "대분류                      5.000000     7.000000     7.000000     7.000000   \n",
       "상품ID별 평균 판매량             0.400000     0.022222     0.022222     0.044444   \n",
       "상품ID 도시별 평균 판매량          1.000000     0.000000     0.000000     0.000000   \n",
       "상점ID 상품분류ID별 평균 판매량      0.088496     0.000000     0.000000     0.008333   \n",
       "월간판매량_시차1                0.000000     0.000000     0.000000     0.000000   \n",
       "월간판매량_시차2                0.000000     0.000000     0.000000     0.000000   \n",
       "월간판매량_시차3                0.000000     0.000000     0.000000     0.000000   \n",
       "\n",
       "                               4  \n",
       "월ID                     0.000000  \n",
       "상점ID                   59.000000  \n",
       "상품ID                 2564.000000  \n",
       "월간판매량                   0.000000  \n",
       "평균 판매가                  0.000000  \n",
       "판매건수                    0.000000  \n",
       "도시                     30.000000  \n",
       "상품분류ID                 59.000000  \n",
       "첫 판매월                   0.000000  \n",
       "대분류                     7.000000  \n",
       "상품ID별 평균 판매량            0.111111  \n",
       "상품ID 도시별 평균 판매량         0.000000  \n",
       "상점ID 상품분류ID별 평균 판매량     0.011976  \n",
       "월간판매량_시차1               0.000000  \n",
       "월간판매량_시차2               0.000000  \n",
       "월간판매량_시차3               0.000000  "
      ]
     },
     "execution_count": 111,
     "metadata": {},
     "output_type": "execute_result"
    }
   ],
   "source": [
    "all_data.head().T"
   ]
  },
  {
   "cell_type": "code",
   "execution_count": 112,
   "metadata": {},
   "outputs": [
    {
     "data": {
      "text/plain": [
       "['월간판매량_시차1', '월간판매량_시차2', '월간판매량_시차3']"
      ]
     },
     "execution_count": 112,
     "metadata": {},
     "output_type": "execute_result"
    }
   ],
   "source": [
    "lag_features_to_clip"
   ]
  },
  {
   "cell_type": "code",
   "execution_count": 113,
   "metadata": {},
   "outputs": [],
   "source": [
    "all_data, lag_features_to_clip = add_lag_features(df=all_data,\n",
    "                                                  lag_features_to_clip=lag_features_to_clip,\n",
    "                                                  idx_features=idx_features,\n",
    "                                                  lag_feature='판매건수',\n",
    "                                                  nlags=3,\n",
    "                                                  clip=True)\n",
    "\n",
    "all_data, lag_features_to_clip = add_lag_features(df=all_data,\n",
    "                                                  lag_features_to_clip=lag_features_to_clip,\n",
    "                                                  idx_features=idx_features,\n",
    "                                                  lag_feature='평균 판매가',\n",
    "                                                  nlags=3,\n",
    "                                                  clip=True)"
   ]
  },
  {
   "cell_type": "code",
   "execution_count": 114,
   "metadata": {},
   "outputs": [],
   "source": [
    "for item_mean_feature in item_mean_features:\n",
    "    all_data, lag_features_to_clip = add_lag_features(df=all_data,\n",
    "                                                    lag_features_to_clip=lag_features_to_clip,\n",
    "                                                    idx_features=idx_features,\n",
    "                                                    lag_feature=item_mean_feature,\n",
    "                                                    nlags=3,\n",
    "                                                    clip=True)\n",
    "all_data = all_data.drop(item_mean_features, axis = 1)"
   ]
  },
  {
   "cell_type": "code",
   "execution_count": 115,
   "metadata": {},
   "outputs": [],
   "source": [
    "for shop_mean_feature in shop_mean_features:\n",
    "    all_data, lag_features_to_clip = add_lag_features(df=all_data,\n",
    "                                                    lag_features_to_clip=lag_features_to_clip,\n",
    "                                                    idx_features=['월ID', '상점ID', '상품분류ID'],\n",
    "                                                    lag_feature=shop_mean_feature,\n",
    "                                                    nlags=3,\n",
    "                                                    clip=True)\n",
    "all_data = all_data.drop(shop_mean_features, axis = 1)"
   ]
  },
  {
   "cell_type": "code",
   "execution_count": 116,
   "metadata": {},
   "outputs": [],
   "source": [
    "all_data = all_data.drop(all_data[all_data['월ID'] < 3].index)"
   ]
  },
  {
   "cell_type": "code",
   "execution_count": 117,
   "metadata": {},
   "outputs": [
    {
     "data": {
      "text/html": [
       "<div>\n",
       "<style scoped>\n",
       "    .dataframe tbody tr th:only-of-type {\n",
       "        vertical-align: middle;\n",
       "    }\n",
       "\n",
       "    .dataframe tbody tr th {\n",
       "        vertical-align: top;\n",
       "    }\n",
       "\n",
       "    .dataframe thead th {\n",
       "        text-align: right;\n",
       "    }\n",
       "</style>\n",
       "<table border=\"1\" class=\"dataframe\">\n",
       "  <thead>\n",
       "    <tr style=\"text-align: right;\">\n",
       "      <th></th>\n",
       "      <th>1122386</th>\n",
       "      <th>1122387</th>\n",
       "      <th>1122388</th>\n",
       "      <th>1122389</th>\n",
       "      <th>1122390</th>\n",
       "    </tr>\n",
       "  </thead>\n",
       "  <tbody>\n",
       "    <tr>\n",
       "      <th>월ID</th>\n",
       "      <td>3.000000</td>\n",
       "      <td>3.000000</td>\n",
       "      <td>3.000000</td>\n",
       "      <td>3.000000</td>\n",
       "      <td>3.000000</td>\n",
       "    </tr>\n",
       "    <tr>\n",
       "      <th>상점ID</th>\n",
       "      <td>25.000000</td>\n",
       "      <td>25.000000</td>\n",
       "      <td>25.000000</td>\n",
       "      <td>25.000000</td>\n",
       "      <td>25.000000</td>\n",
       "    </tr>\n",
       "    <tr>\n",
       "      <th>상품ID</th>\n",
       "      <td>8092.000000</td>\n",
       "      <td>7850.000000</td>\n",
       "      <td>8051.000000</td>\n",
       "      <td>8088.000000</td>\n",
       "      <td>8089.000000</td>\n",
       "    </tr>\n",
       "    <tr>\n",
       "      <th>월간판매량</th>\n",
       "      <td>3.000000</td>\n",
       "      <td>3.000000</td>\n",
       "      <td>3.000000</td>\n",
       "      <td>1.000000</td>\n",
       "      <td>1.000000</td>\n",
       "    </tr>\n",
       "    <tr>\n",
       "      <th>평균 판매가</th>\n",
       "      <td>149.000000</td>\n",
       "      <td>199.000000</td>\n",
       "      <td>30.000000</td>\n",
       "      <td>199.000000</td>\n",
       "      <td>199.000000</td>\n",
       "    </tr>\n",
       "    <tr>\n",
       "      <th>판매건수</th>\n",
       "      <td>3.000000</td>\n",
       "      <td>3.000000</td>\n",
       "      <td>2.000000</td>\n",
       "      <td>1.000000</td>\n",
       "      <td>1.000000</td>\n",
       "    </tr>\n",
       "    <tr>\n",
       "      <th>도시</th>\n",
       "      <td>13.000000</td>\n",
       "      <td>13.000000</td>\n",
       "      <td>13.000000</td>\n",
       "      <td>13.000000</td>\n",
       "      <td>13.000000</td>\n",
       "    </tr>\n",
       "    <tr>\n",
       "      <th>상품분류ID</th>\n",
       "      <td>40.000000</td>\n",
       "      <td>30.000000</td>\n",
       "      <td>66.000000</td>\n",
       "      <td>55.000000</td>\n",
       "      <td>55.000000</td>\n",
       "    </tr>\n",
       "    <tr>\n",
       "      <th>첫 판매월</th>\n",
       "      <td>0.000000</td>\n",
       "      <td>0.000000</td>\n",
       "      <td>0.000000</td>\n",
       "      <td>0.000000</td>\n",
       "      <td>0.000000</td>\n",
       "    </tr>\n",
       "    <tr>\n",
       "      <th>대분류</th>\n",
       "      <td>5.000000</td>\n",
       "      <td>3.000000</td>\n",
       "      <td>8.000000</td>\n",
       "      <td>7.000000</td>\n",
       "      <td>7.000000</td>\n",
       "    </tr>\n",
       "    <tr>\n",
       "      <th>월간판매량_시차1</th>\n",
       "      <td>1.000000</td>\n",
       "      <td>5.000000</td>\n",
       "      <td>0.000000</td>\n",
       "      <td>1.000000</td>\n",
       "      <td>0.000000</td>\n",
       "    </tr>\n",
       "    <tr>\n",
       "      <th>월간판매량_시차2</th>\n",
       "      <td>0.000000</td>\n",
       "      <td>1.000000</td>\n",
       "      <td>0.000000</td>\n",
       "      <td>1.000000</td>\n",
       "      <td>1.000000</td>\n",
       "    </tr>\n",
       "    <tr>\n",
       "      <th>월간판매량_시차3</th>\n",
       "      <td>4.000000</td>\n",
       "      <td>6.000000</td>\n",
       "      <td>0.000000</td>\n",
       "      <td>0.000000</td>\n",
       "      <td>0.000000</td>\n",
       "    </tr>\n",
       "    <tr>\n",
       "      <th>판매건수_시차1</th>\n",
       "      <td>1.000000</td>\n",
       "      <td>4.000000</td>\n",
       "      <td>0.000000</td>\n",
       "      <td>1.000000</td>\n",
       "      <td>0.000000</td>\n",
       "    </tr>\n",
       "    <tr>\n",
       "      <th>판매건수_시차2</th>\n",
       "      <td>0.000000</td>\n",
       "      <td>1.000000</td>\n",
       "      <td>0.000000</td>\n",
       "      <td>1.000000</td>\n",
       "      <td>1.000000</td>\n",
       "    </tr>\n",
       "    <tr>\n",
       "      <th>판매건수_시차3</th>\n",
       "      <td>4.000000</td>\n",
       "      <td>5.000000</td>\n",
       "      <td>0.000000</td>\n",
       "      <td>0.000000</td>\n",
       "      <td>0.000000</td>\n",
       "    </tr>\n",
       "    <tr>\n",
       "      <th>평균 판매가_시차1</th>\n",
       "      <td>149.000000</td>\n",
       "      <td>199.000000</td>\n",
       "      <td>0.000000</td>\n",
       "      <td>199.000000</td>\n",
       "      <td>0.000000</td>\n",
       "    </tr>\n",
       "    <tr>\n",
       "      <th>평균 판매가_시차2</th>\n",
       "      <td>0.000000</td>\n",
       "      <td>199.000000</td>\n",
       "      <td>0.000000</td>\n",
       "      <td>199.000000</td>\n",
       "      <td>199.000000</td>\n",
       "    </tr>\n",
       "    <tr>\n",
       "      <th>평균 판매가_시차3</th>\n",
       "      <td>149.000000</td>\n",
       "      <td>199.000000</td>\n",
       "      <td>0.000000</td>\n",
       "      <td>0.000000</td>\n",
       "      <td>0.000000</td>\n",
       "    </tr>\n",
       "    <tr>\n",
       "      <th>상품ID별 평균 판매량_시차1</th>\n",
       "      <td>0.586957</td>\n",
       "      <td>1.869565</td>\n",
       "      <td>0.043478</td>\n",
       "      <td>0.130435</td>\n",
       "      <td>0.478261</td>\n",
       "    </tr>\n",
       "    <tr>\n",
       "      <th>상품ID별 평균 판매량_시차2</th>\n",
       "      <td>0.630435</td>\n",
       "      <td>1.456522</td>\n",
       "      <td>0.130435</td>\n",
       "      <td>0.043478</td>\n",
       "      <td>0.260870</td>\n",
       "    </tr>\n",
       "    <tr>\n",
       "      <th>상품ID별 평균 판매량_시차3</th>\n",
       "      <td>1.444444</td>\n",
       "      <td>3.088889</td>\n",
       "      <td>0.133333</td>\n",
       "      <td>0.066667</td>\n",
       "      <td>0.177778</td>\n",
       "    </tr>\n",
       "    <tr>\n",
       "      <th>상품ID 도시별 평균 판매량_시차1</th>\n",
       "      <td>0.666667</td>\n",
       "      <td>2.916667</td>\n",
       "      <td>0.000000</td>\n",
       "      <td>0.166667</td>\n",
       "      <td>0.666667</td>\n",
       "    </tr>\n",
       "    <tr>\n",
       "      <th>상품ID 도시별 평균 판매량_시차2</th>\n",
       "      <td>0.666667</td>\n",
       "      <td>2.083333</td>\n",
       "      <td>0.333333</td>\n",
       "      <td>0.083333</td>\n",
       "      <td>0.250000</td>\n",
       "    </tr>\n",
       "    <tr>\n",
       "      <th>상품ID 도시별 평균 판매량_시차3</th>\n",
       "      <td>2.000000</td>\n",
       "      <td>2.916667</td>\n",
       "      <td>0.333333</td>\n",
       "      <td>0.000000</td>\n",
       "      <td>0.083333</td>\n",
       "    </tr>\n",
       "    <tr>\n",
       "      <th>상점ID 상품분류ID별 평균 판매량_시차1</th>\n",
       "      <td>1.035039</td>\n",
       "      <td>3.554645</td>\n",
       "      <td>1.796610</td>\n",
       "      <td>0.569322</td>\n",
       "      <td>0.569322</td>\n",
       "    </tr>\n",
       "    <tr>\n",
       "      <th>상점ID 상품분류ID별 평균 판매량_시차2</th>\n",
       "      <td>0.899247</td>\n",
       "      <td>2.083532</td>\n",
       "      <td>2.175439</td>\n",
       "      <td>0.544919</td>\n",
       "      <td>0.544919</td>\n",
       "    </tr>\n",
       "    <tr>\n",
       "      <th>상점ID 상품분류ID별 평균 판매량_시차3</th>\n",
       "      <td>0.995823</td>\n",
       "      <td>2.163855</td>\n",
       "      <td>1.320000</td>\n",
       "      <td>0.534779</td>\n",
       "      <td>0.534779</td>\n",
       "    </tr>\n",
       "  </tbody>\n",
       "</table>\n",
       "</div>"
      ],
      "text/plain": [
       "                             1122386      1122387      1122388      1122389  \\\n",
       "월ID                         3.000000     3.000000     3.000000     3.000000   \n",
       "상점ID                       25.000000    25.000000    25.000000    25.000000   \n",
       "상품ID                     8092.000000  7850.000000  8051.000000  8088.000000   \n",
       "월간판매량                       3.000000     3.000000     3.000000     1.000000   \n",
       "평균 판매가                    149.000000   199.000000    30.000000   199.000000   \n",
       "판매건수                        3.000000     3.000000     2.000000     1.000000   \n",
       "도시                         13.000000    13.000000    13.000000    13.000000   \n",
       "상품분류ID                     40.000000    30.000000    66.000000    55.000000   \n",
       "첫 판매월                       0.000000     0.000000     0.000000     0.000000   \n",
       "대분류                         5.000000     3.000000     8.000000     7.000000   \n",
       "월간판매량_시차1                   1.000000     5.000000     0.000000     1.000000   \n",
       "월간판매량_시차2                   0.000000     1.000000     0.000000     1.000000   \n",
       "월간판매량_시차3                   4.000000     6.000000     0.000000     0.000000   \n",
       "판매건수_시차1                    1.000000     4.000000     0.000000     1.000000   \n",
       "판매건수_시차2                    0.000000     1.000000     0.000000     1.000000   \n",
       "판매건수_시차3                    4.000000     5.000000     0.000000     0.000000   \n",
       "평균 판매가_시차1                149.000000   199.000000     0.000000   199.000000   \n",
       "평균 판매가_시차2                  0.000000   199.000000     0.000000   199.000000   \n",
       "평균 판매가_시차3                149.000000   199.000000     0.000000     0.000000   \n",
       "상품ID별 평균 판매량_시차1            0.586957     1.869565     0.043478     0.130435   \n",
       "상품ID별 평균 판매량_시차2            0.630435     1.456522     0.130435     0.043478   \n",
       "상품ID별 평균 판매량_시차3            1.444444     3.088889     0.133333     0.066667   \n",
       "상품ID 도시별 평균 판매량_시차1         0.666667     2.916667     0.000000     0.166667   \n",
       "상품ID 도시별 평균 판매량_시차2         0.666667     2.083333     0.333333     0.083333   \n",
       "상품ID 도시별 평균 판매량_시차3         2.000000     2.916667     0.333333     0.000000   \n",
       "상점ID 상품분류ID별 평균 판매량_시차1     1.035039     3.554645     1.796610     0.569322   \n",
       "상점ID 상품분류ID별 평균 판매량_시차2     0.899247     2.083532     2.175439     0.544919   \n",
       "상점ID 상품분류ID별 평균 판매량_시차3     0.995823     2.163855     1.320000     0.534779   \n",
       "\n",
       "                             1122390  \n",
       "월ID                         3.000000  \n",
       "상점ID                       25.000000  \n",
       "상품ID                     8089.000000  \n",
       "월간판매량                       1.000000  \n",
       "평균 판매가                    199.000000  \n",
       "판매건수                        1.000000  \n",
       "도시                         13.000000  \n",
       "상품분류ID                     55.000000  \n",
       "첫 판매월                       0.000000  \n",
       "대분류                         7.000000  \n",
       "월간판매량_시차1                   0.000000  \n",
       "월간판매량_시차2                   1.000000  \n",
       "월간판매량_시차3                   0.000000  \n",
       "판매건수_시차1                    0.000000  \n",
       "판매건수_시차2                    1.000000  \n",
       "판매건수_시차3                    0.000000  \n",
       "평균 판매가_시차1                  0.000000  \n",
       "평균 판매가_시차2                199.000000  \n",
       "평균 판매가_시차3                  0.000000  \n",
       "상품ID별 평균 판매량_시차1            0.478261  \n",
       "상품ID별 평균 판매량_시차2            0.260870  \n",
       "상품ID별 평균 판매량_시차3            0.177778  \n",
       "상품ID 도시별 평균 판매량_시차1         0.666667  \n",
       "상품ID 도시별 평균 판매량_시차2         0.250000  \n",
       "상품ID 도시별 평균 판매량_시차3         0.083333  \n",
       "상점ID 상품분류ID별 평균 판매량_시차1     0.569322  \n",
       "상점ID 상품분류ID별 평균 판매량_시차2     0.544919  \n",
       "상점ID 상품분류ID별 평균 판매량_시차3     0.534779  "
      ]
     },
     "execution_count": 117,
     "metadata": {},
     "output_type": "execute_result"
    }
   ],
   "source": [
    "all_data.head().T"
   ]
  },
  {
   "cell_type": "markdown",
   "metadata": {},
   "source": [
    "### 기타 피쳐엔지니어링"
   ]
  },
  {
   "cell_type": "code",
   "execution_count": 118,
   "metadata": {},
   "outputs": [],
   "source": [
    "all_data['월간판매량 시차평균'] = all_data[['월간판매량_시차1', '월간판매량_시차2', '월간판매량_시차3']].mean(axis=1)"
   ]
  },
  {
   "cell_type": "code",
   "execution_count": 119,
   "metadata": {},
   "outputs": [],
   "source": [
    "all_data[lag_features_to_clip + ['월간판매량', '월간판매량 시차평균']] = \\\n",
    "all_data[lag_features_to_clip + ['월간판매량', '월간판매량 시차평균']].clip(0, 20)"
   ]
  },
  {
   "cell_type": "code",
   "execution_count": 120,
   "metadata": {},
   "outputs": [],
   "source": [
    "all_data['시차변화량1'] = all_data['월간판매량_시차1'] / all_data['월간판매량_시차2']\n",
    "all_data['시차변화량1'] = all_data['시차변화량1'].replace([np.inf, -np.inf], np.nan).fillna(0)\n",
    "\n",
    "all_data['시차변화량2'] = all_data['월간판매량_시차2'] / all_data['월간판매량_시차3']\n",
    "all_data['시차변화량2'] = all_data['시차변화량2'].replace([np.inf, -np.inf], np.nan).fillna(0)\n"
   ]
  },
  {
   "cell_type": "code",
   "execution_count": 121,
   "metadata": {},
   "outputs": [],
   "source": [
    "all_data['신상여부'] = (all_data['첫 판매월'] == all_data['월ID'])"
   ]
  },
  {
   "cell_type": "code",
   "execution_count": 122,
   "metadata": {},
   "outputs": [],
   "source": [
    "all_data['첫 판매 후 기간'] = all_data['월ID'] - all_data['첫 판매월']"
   ]
  },
  {
   "cell_type": "code",
   "execution_count": 123,
   "metadata": {},
   "outputs": [],
   "source": [
    "all_data['월'] = all_data['월ID'] % 12"
   ]
  },
  {
   "cell_type": "code",
   "execution_count": 124,
   "metadata": {},
   "outputs": [],
   "source": [
    "all_data = all_data.drop(['첫 판매월', '평균 판매가', '판매건수'], axis = 1)\n",
    "all_data = downcast(all_data, False)"
   ]
  },
  {
   "cell_type": "code",
   "execution_count": 125,
   "metadata": {},
   "outputs": [
    {
     "name": "stdout",
     "output_type": "stream",
     "text": [
      "<class 'pandas.core.frame.DataFrame'>\n",
      "RangeIndex: 9904582 entries, 1122386 to 11026967\n",
      "Data columns (total 31 columns):\n",
      " #   Column                   Dtype  \n",
      "---  ------                   -----  \n",
      " 0   월ID                      int8   \n",
      " 1   상점ID                     int8   \n",
      " 2   상품ID                     int16  \n",
      " 3   월간판매량                    int8   \n",
      " 4   도시                       int8   \n",
      " 5   상품분류ID                   int8   \n",
      " 6   대분류                      int8   \n",
      " 7   월간판매량_시차1                int8   \n",
      " 8   월간판매량_시차2                int8   \n",
      " 9   월간판매량_시차3                int8   \n",
      " 10  판매건수_시차1                 int8   \n",
      " 11  판매건수_시차2                 int8   \n",
      " 12  판매건수_시차3                 int8   \n",
      " 13  평균 판매가_시차1               float32\n",
      " 14  평균 판매가_시차2               float32\n",
      " 15  평균 판매가_시차3               float32\n",
      " 16  상품ID별 평균 판매량_시차1         float32\n",
      " 17  상품ID별 평균 판매량_시차2         float32\n",
      " 18  상품ID별 평균 판매량_시차3         float32\n",
      " 19  상품ID 도시별 평균 판매량_시차1      float32\n",
      " 20  상품ID 도시별 평균 판매량_시차2      float32\n",
      " 21  상품ID 도시별 평균 판매량_시차3      float32\n",
      " 22  상점ID 상품분류ID별 평균 판매량_시차1  float32\n",
      " 23  상점ID 상품분류ID별 평균 판매량_시차2  float32\n",
      " 24  상점ID 상품분류ID별 평균 판매량_시차3  float32\n",
      " 25  월간판매량 시차평균               float32\n",
      " 26  시차변화량1                   float32\n",
      " 27  시차변화량2                   float32\n",
      " 28  신상여부                     int8   \n",
      " 29  첫 판매 후 기간                int8   \n",
      " 30  월                        int8   \n",
      "dtypes: float32(15), int16(1), int8(15)\n",
      "memory usage: 727.3 MB\n"
     ]
    }
   ],
   "source": [
    "all_data.info()"
   ]
  },
  {
   "cell_type": "code",
   "execution_count": 126,
   "metadata": {},
   "outputs": [
    {
     "data": {
      "text/plain": [
       "0"
      ]
     },
     "execution_count": 126,
     "metadata": {},
     "output_type": "execute_result"
    }
   ],
   "source": [
    "X_train = all_data[all_data['월ID'] < 33]\n",
    "X_train = X_train.drop(['월간판매량'], axis=1)\n",
    "\n",
    "X_valid = all_data[all_data['월ID'] == 33]\n",
    "X_valid = X_valid.drop(['월간판매량'], axis=1)\n",
    "\n",
    "X_test = all_data[all_data['월ID'] ==  34]\n",
    "X_test = X_test.drop(['월간판매량'], axis=1)\n",
    "\n",
    "y_train = all_data[all_data['월ID'] < 33]['월간판매량']\n",
    "\n",
    "y_valid = all_data[all_data['월ID'] == 33]['월간판매량']\n",
    "\n",
    "\n",
    "del all_data\n",
    "gc.collect()"
   ]
  },
  {
   "cell_type": "code",
   "execution_count": 127,
   "metadata": {},
   "outputs": [
    {
     "name": "stdout",
     "output_type": "stream",
     "text": [
      "[LightGBM] [Warning] Found whitespace in feature_names, replace with underlines\n",
      "[LightGBM] [Info] Total Bins 3132\n",
      "[LightGBM] [Info] Number of data points in the train set: 9452298, number of used features: 30\n",
      "[LightGBM] [Warning] Found whitespace in feature_names, replace with underlines\n",
      "[LightGBM] [Info] Start training from score 0.297707\n"
     ]
    }
   ],
   "source": [
    "import lightgbm as lgb\n",
    "\n",
    "params = {\n",
    "    'metric': 'rmse',\n",
    "    'num_leaves': 255,\n",
    "    'learning_rate': 0.01,\n",
    "    'force_col_wise': True,\n",
    "    'random_state': 10\n",
    "}\n",
    "\n",
    "cat_features = ['상점ID', '상품분류ID']\n",
    "\n",
    "dtrain = lgb.Dataset(X_train, y_train)\n",
    "dvalid = lgb.Dataset(X_valid, y_valid)\n",
    "\n",
    "lgb_model = lgb.train(params=params,\n",
    "                      train_set=dtrain,\n",
    "                      num_boost_round=500,\n",
    "                      valid_sets=(dtrain, dvalid),\n",
    "                      categorical_feature=cat_features)\n",
    "\n",
    "preds = lgb_model.predict(X_test).clip(0,20)\n",
    "\n",
    "submission['item_cnt_month'] = preds\n",
    "submission.to_csv(data_path + 'submission.csv', index=False)"
   ]
  },
  {
   "cell_type": "code",
   "execution_count": 265,
   "metadata": {},
   "outputs": [
    {
     "data": {
      "text/plain": [
       "472"
      ]
     },
     "execution_count": 265,
     "metadata": {},
     "output_type": "execute_result"
    }
   ],
   "source": [
    "del X_train, y_train, X_valid, y_valid, X_test, lgb_model, dvalid, dtrain\n",
    "gc.collect()"
   ]
  }
 ],
 "metadata": {
  "kernelspec": {
   "display_name": "base",
   "language": "python",
   "name": "python3"
  },
  "language_info": {
   "codemirror_mode": {
    "name": "ipython",
    "version": 3
   },
   "file_extension": ".py",
   "mimetype": "text/x-python",
   "name": "python",
   "nbconvert_exporter": "python",
   "pygments_lexer": "ipython3",
   "version": "3.11.5"
  }
 },
 "nbformat": 4,
 "nbformat_minor": 2
}
