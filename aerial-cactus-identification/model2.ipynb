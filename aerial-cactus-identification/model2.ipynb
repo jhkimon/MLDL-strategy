{
  "cells": [
    {
      "cell_type": "code",
      "execution_count": null,
      "metadata": {
        "id": "Ib6uD4tqR0Jo"
      },
      "outputs": [],
      "source": [
        "\n",
        "# IMPORTANT: RUN THIS CELL IN ORDER TO IMPORT YOUR KAGGLE DATA SOURCES\n",
        "# TO THE CORRECT LOCATION (/kaggle/input) IN YOUR NOTEBOOK,\n",
        "# THEN FEEL FREE TO DELETE THIS CELL.\n",
        "# NOTE: THIS NOTEBOOK ENVIRONMENT DIFFERS FROM KAGGLE'S PYTHON\n",
        "# ENVIRONMENT SO THERE MAY BE MISSING LIBRARIES USED BY YOUR\n",
        "# NOTEBOOK.\n",
        "\n",
        "import os\n",
        "import sys\n",
        "from tempfile import NamedTemporaryFile\n",
        "from urllib.request import urlopen\n",
        "from urllib.parse import unquote, urlparse\n",
        "from urllib.error import HTTPError\n",
        "from zipfile import ZipFile\n",
        "import tarfile\n",
        "import shutil\n",
        "\n",
        "CHUNK_SIZE = 40960\n",
        "DATA_SOURCE_MAPPING = 'aerial-cactus-identification:https%3A%2F%2Fstorage.googleapis.com%2Fkaggle-competitions-data%2Fkaggle-v2%2F13435%2F331452%2Fbundle%2Farchive.zip%3FX-Goog-Algorithm%3DGOOG4-RSA-SHA256%26X-Goog-Credential%3Dgcp-kaggle-com%2540kaggle-161607.iam.gserviceaccount.com%252F20240910%252Fauto%252Fstorage%252Fgoog4_request%26X-Goog-Date%3D20240910T141221Z%26X-Goog-Expires%3D259200%26X-Goog-SignedHeaders%3Dhost%26X-Goog-Signature%3D59be700dc95867533e1079f131249a21758abcfa0dbb3bad43c8d24c10f8de73fb8c802fb965a5e50fe4e5933bfa15321acc0cafd020b1eca3cbd401a8b531e15b9869a176a4139703e52601c2228c70243acb4752b55bbb42316b4cad595d0c8ec665d0a453ff0614eb347abacb669c0d144aebf80e25faaf757633302cacfd4afafb50f59d4b53443378870f2f18fb0a2b0aefcc8aa8997b24ed4395ed3f16e8c012786d1672c1b6ce1a3753022f04b1d93a40ef3f9671b9467bcebfe8bd42970448953a6712645c860c2fef4f49dd0260f50b400839ff8c7c8b81e095d0ad3f60d3b3a31c69153763d6135716064ac556ae8f8e7c9cdfd07a7bcc9760921e'\n",
        "\n",
        "KAGGLE_INPUT_PATH='/kaggle/input'\n",
        "KAGGLE_WORKING_PATH='/kaggle/working'\n",
        "KAGGLE_SYMLINK='kaggle'\n",
        "\n",
        "!umount /kaggle/input/ 2> /dev/null\n",
        "shutil.rmtree('/kaggle/input', ignore_errors=True)\n",
        "os.makedirs(KAGGLE_INPUT_PATH, 0o777, exist_ok=True)\n",
        "os.makedirs(KAGGLE_WORKING_PATH, 0o777, exist_ok=True)\n",
        "\n",
        "try:\n",
        "  os.symlink(KAGGLE_INPUT_PATH, os.path.join(\"..\", 'input'), target_is_directory=True)\n",
        "except FileExistsError:\n",
        "  pass\n",
        "try:\n",
        "  os.symlink(KAGGLE_WORKING_PATH, os.path.join(\"..\", 'working'), target_is_directory=True)\n",
        "except FileExistsError:\n",
        "  pass\n",
        "\n",
        "for data_source_mapping in DATA_SOURCE_MAPPING.split(','):\n",
        "    directory, download_url_encoded = data_source_mapping.split(':')\n",
        "    download_url = unquote(download_url_encoded)\n",
        "    filename = urlparse(download_url).path\n",
        "    destination_path = os.path.join(KAGGLE_INPUT_PATH, directory)\n",
        "    try:\n",
        "        with urlopen(download_url) as fileres, NamedTemporaryFile() as tfile:\n",
        "            total_length = fileres.headers['content-length']\n",
        "            print(f'Downloading {directory}, {total_length} bytes compressed')\n",
        "            dl = 0\n",
        "            data = fileres.read(CHUNK_SIZE)\n",
        "            while len(data) > 0:\n",
        "                dl += len(data)\n",
        "                tfile.write(data)\n",
        "                done = int(50 * dl / int(total_length))\n",
        "                sys.stdout.write(f\"\\r[{'=' * done}{' ' * (50-done)}] {dl} bytes downloaded\")\n",
        "                sys.stdout.flush()\n",
        "                data = fileres.read(CHUNK_SIZE)\n",
        "            if filename.endswith('.zip'):\n",
        "              with ZipFile(tfile) as zfile:\n",
        "                zfile.extractall(destination_path)\n",
        "            else:\n",
        "              with tarfile.open(tfile.name) as tarfile:\n",
        "                tarfile.extractall(destination_path)\n",
        "            print(f'\\nDownloaded and uncompressed: {directory}')\n",
        "    except HTTPError as e:\n",
        "        print(f'Failed to load (likely expired) {download_url} to path {destination_path}')\n",
        "        continue\n",
        "    except OSError as e:\n",
        "        print(f'Failed to load {download_url} to path {destination_path}')\n",
        "        continue\n",
        "\n",
        "print('Data source import complete.')\n"
      ]
    },
    {
      "cell_type": "code",
      "execution_count": null,
      "metadata": {
        "id": "cFyh2lg9R0Jp"
      },
      "outputs": [],
      "source": []
    },
    {
      "cell_type": "code",
      "execution_count": null,
      "metadata": {
        "_cell_guid": "b1076dfc-b9ad-4769-8c92-a6c4dae69d19",
        "_uuid": "8f2839f25d086af736a60e9eeb907d3b93b6e0e5",
        "execution": {
          "iopub.execute_input": "2024-09-10T13:51:45.20575Z",
          "iopub.status.busy": "2024-09-10T13:51:45.205342Z",
          "iopub.status.idle": "2024-09-10T13:51:45.669179Z",
          "shell.execute_reply": "2024-09-10T13:51:45.668087Z",
          "shell.execute_reply.started": "2024-09-10T13:51:45.205714Z"
        },
        "id": "QkhC5OwGR0Jq",
        "outputId": "72e2c398-0322-46f2-dd8b-b19820b8ecdb",
        "trusted": true
      },
      "outputs": [
        {
          "name": "stdout",
          "output_type": "stream",
          "text": [
            "/kaggle/input/aerial-cactus-identification/sample_submission.csv\n",
            "/kaggle/input/aerial-cactus-identification/train.zip\n",
            "/kaggle/input/aerial-cactus-identification/test.zip\n",
            "/kaggle/input/aerial-cactus-identification/train.csv\n"
          ]
        }
      ],
      "source": [
        "# This Python 3 environment comes with many helpful analytics libraries installed\n",
        "# It is defined by the kaggle/python Docker image: https://github.com/kaggle/docker-python\n",
        "# For example, here's several helpful packages to load\n",
        "\n",
        "import numpy as np # linear algebra\n",
        "import pandas as pd # data processing, CSV file I/O (e.g. pd.read_csv)\n",
        "\n",
        "# Input data files are available in the read-only \"../input/\" directory\n",
        "# For example, running this (by clicking run or pressing Shift+Enter) will list all files under the input directory\n",
        "\n",
        "import os\n",
        "for dirname, _, filenames in os.walk('/kaggle/input'):\n",
        "    for filename in filenames:\n",
        "        print(os.path.join(dirname, filename))\n",
        "\n",
        "# You can write up to 20GB to the current directory (/kaggle/working/) that gets preserved as output when you create a version using \"Save & Run All\"\n",
        "# You can also write temporary files to /kaggle/temp/, but they won't be saved outside of the current session"
      ]
    },
    {
      "cell_type": "code",
      "execution_count": null,
      "metadata": {
        "execution": {
          "iopub.execute_input": "2024-09-10T13:51:52.5138Z",
          "iopub.status.busy": "2024-09-10T13:51:52.512896Z",
          "iopub.status.idle": "2024-09-10T13:51:52.566888Z",
          "shell.execute_reply": "2024-09-10T13:51:52.565997Z",
          "shell.execute_reply.started": "2024-09-10T13:51:52.513758Z"
        },
        "id": "bkwGRQRcR0Jq",
        "trusted": true
      },
      "outputs": [],
      "source": [
        "import pandas as pd\n",
        "\n",
        "data_path = '/kaggle/input/aerial-cactus-identification/'\n",
        "\n",
        "labels = pd.read_csv(data_path + 'train.csv')\n",
        "submission = pd.read_csv(data_path + 'sample_submission.csv')"
      ]
    },
    {
      "cell_type": "code",
      "execution_count": null,
      "metadata": {
        "execution": {
          "iopub.execute_input": "2024-09-10T13:51:53.637344Z",
          "iopub.status.busy": "2024-09-10T13:51:53.636583Z",
          "iopub.status.idle": "2024-09-10T13:51:56.646876Z",
          "shell.execute_reply": "2024-09-10T13:51:56.646077Z",
          "shell.execute_reply.started": "2024-09-10T13:51:53.637307Z"
        },
        "id": "vqhjCUyLR0Jq",
        "trusted": true
      },
      "outputs": [],
      "source": [
        "from zipfile import ZipFile\n",
        "\n",
        "with ZipFile(data_path + 'train.zip') as zipper:\n",
        "    zipper.extractall()\n",
        "with ZipFile(data_path + 'test.zip') as zipper:\n",
        "    zipper.extractall()"
      ]
    },
    {
      "cell_type": "code",
      "execution_count": null,
      "metadata": {
        "execution": {
          "iopub.execute_input": "2024-09-10T13:51:56.648925Z",
          "iopub.status.busy": "2024-09-10T13:51:56.648608Z",
          "iopub.status.idle": "2024-09-10T13:51:56.661448Z",
          "shell.execute_reply": "2024-09-10T13:51:56.660427Z",
          "shell.execute_reply.started": "2024-09-10T13:51:56.648892Z"
        },
        "id": "vpeuTLz3R0Jq",
        "trusted": true
      },
      "outputs": [],
      "source": [
        "# 결과값 고정을 위한 것\n",
        "\n",
        "import torch\n",
        "import random\n",
        "import numpy as np\n",
        "import os\n",
        "\n",
        "seed = 50\n",
        "os.environ['PYTHONASHSEED'] = str(seed)\n",
        "random.seed(seed)\n",
        "np.random.seed(seed)\n",
        "torch.manual_seed(seed) # CPU - seed\n",
        "torch.cuda.manual_seed(seed) # GPU - seed\n",
        "torch.cuda.manual_seed_all(seed) # MultiGPU - seed\n",
        "torch.backends.cudnn.deterministic = True # 확정 연산\n",
        "torch.backends.cudnn.benchmark = False # 벤치마크 해제\n",
        "torch.backends.cudnn.enabled = False # cudnn 해제"
      ]
    },
    {
      "cell_type": "code",
      "execution_count": null,
      "metadata": {
        "execution": {
          "iopub.execute_input": "2024-09-10T13:51:56.662817Z",
          "iopub.status.busy": "2024-09-10T13:51:56.662529Z",
          "iopub.status.idle": "2024-09-10T13:51:56.73426Z",
          "shell.execute_reply": "2024-09-10T13:51:56.733021Z",
          "shell.execute_reply.started": "2024-09-10T13:51:56.662785Z"
        },
        "id": "JZL1EgsFR0Jr",
        "outputId": "0b91d663-8d64-4154-8568-c0b2cb3d7ed1",
        "trusted": true
      },
      "outputs": [
        {
          "data": {
            "text/plain": [
              "device(type='cuda')"
            ]
          },
          "execution_count": 7,
          "metadata": {},
          "output_type": "execute_result"
        }
      ],
      "source": [
        "device = torch.device('cuda' if torch.cuda.is_available() else 'cpu')\n",
        "device"
      ]
    },
    {
      "cell_type": "code",
      "execution_count": null,
      "metadata": {
        "execution": {
          "iopub.execute_input": "2024-09-10T13:51:56.736797Z",
          "iopub.status.busy": "2024-09-10T13:51:56.736481Z",
          "iopub.status.idle": "2024-09-10T13:51:56.773845Z",
          "shell.execute_reply": "2024-09-10T13:51:56.773102Z",
          "shell.execute_reply.started": "2024-09-10T13:51:56.736763Z"
        },
        "id": "_xTntXJXR0Jr",
        "trusted": true
      },
      "outputs": [],
      "source": [
        "from sklearn.model_selection import train_test_split\n",
        "\n",
        "train, valid = train_test_split(labels, test_size = 0.1, stratify=labels['has_cactus'], random_state=50)"
      ]
    },
    {
      "cell_type": "code",
      "execution_count": null,
      "metadata": {
        "execution": {
          "iopub.execute_input": "2024-09-10T13:51:56.775459Z",
          "iopub.status.busy": "2024-09-10T13:51:56.774926Z",
          "iopub.status.idle": "2024-09-10T13:51:56.780198Z",
          "shell.execute_reply": "2024-09-10T13:51:56.779249Z",
          "shell.execute_reply.started": "2024-09-10T13:51:56.775426Z"
        },
        "id": "Fm4HLDUxR0Jr",
        "outputId": "33720188-0956-4591-a31a-d44dcb5450e7",
        "trusted": true
      },
      "outputs": [
        {
          "name": "stdout",
          "output_type": "stream",
          "text": [
            "15750 1750\n"
          ]
        }
      ],
      "source": [
        "print(len(train), len(valid))"
      ]
    },
    {
      "cell_type": "code",
      "execution_count": null,
      "metadata": {
        "execution": {
          "iopub.execute_input": "2024-09-10T13:51:56.947915Z",
          "iopub.status.busy": "2024-09-10T13:51:56.947596Z",
          "iopub.status.idle": "2024-09-10T13:51:56.952225Z",
          "shell.execute_reply": "2024-09-10T13:51:56.951213Z",
          "shell.execute_reply.started": "2024-09-10T13:51:56.94788Z"
        },
        "id": "HuaDCug0R0Jr",
        "trusted": true
      },
      "outputs": [],
      "source": [
        "import cv2\n",
        "from torch.utils.data import Dataset"
      ]
    },
    {
      "cell_type": "code",
      "execution_count": null,
      "metadata": {
        "execution": {
          "iopub.execute_input": "2024-09-10T13:51:58.918537Z",
          "iopub.status.busy": "2024-09-10T13:51:58.917717Z",
          "iopub.status.idle": "2024-09-10T13:51:58.929803Z",
          "shell.execute_reply": "2024-09-10T13:51:58.928796Z",
          "shell.execute_reply.started": "2024-09-10T13:51:58.918477Z"
        },
        "id": "hmDGbYBTR0Jr",
        "trusted": true
      },
      "outputs": [],
      "source": [
        "class ImageDataset(Dataset):\n",
        "    def __init__(self, df, img_dir='./', transform=None):\n",
        "        super().__init__()\n",
        "        self.df = df\n",
        "        self.img_dir = img_dir\n",
        "        self.transform = transform\n",
        "\n",
        "    def __len__(self):\n",
        "        return len(self.df)\n",
        "\n",
        "    # idx에 해당하는 데이터 반환 매서드\n",
        "    def __getitem__(self, idx):\n",
        "        img_id = self.df.iloc[idx, 0] # 이미지 ID\n",
        "        img_path = self.img_dir + img_id # 이미지 파일 경로\n",
        "        image = cv2.imread(img_path) # 이미지 파일 읽기\n",
        "        image = cv2.cvtColor(image, cv2.COLOR_BGR2RGB) # 이미지 색상 보정\n",
        "        label = self.df.iloc[idx, 1] # 이미지 레이블 (타깃값)\n",
        "\n",
        "        if self.transform is not None:\n",
        "            image = self.transform(image) # 변환기가 있다면 이미지 변환\n",
        "        return image, label"
      ]
    },
    {
      "cell_type": "code",
      "execution_count": null,
      "metadata": {
        "execution": {
          "iopub.execute_input": "2024-09-10T13:52:04.976899Z",
          "iopub.status.busy": "2024-09-10T13:52:04.976553Z",
          "iopub.status.idle": "2024-09-10T13:52:06.36116Z",
          "shell.execute_reply": "2024-09-10T13:52:06.360346Z",
          "shell.execute_reply.started": "2024-09-10T13:52:04.976866Z"
        },
        "id": "tCOPl3V6R0Js",
        "trusted": true
      },
      "outputs": [],
      "source": [
        "from torchvision import transforms\n",
        "\n",
        "transform = transforms.ToTensor()"
      ]
    },
    {
      "cell_type": "markdown",
      "metadata": {
        "id": "iXBpUb0DR0Js"
      },
      "source": [
        "### Data Augmentation"
      ]
    },
    {
      "cell_type": "code",
      "execution_count": null,
      "metadata": {
        "execution": {
          "iopub.execute_input": "2024-09-10T13:57:09.041408Z",
          "iopub.status.busy": "2024-09-10T13:57:09.041003Z",
          "iopub.status.idle": "2024-09-10T13:57:09.048853Z",
          "shell.execute_reply": "2024-09-10T13:57:09.047523Z",
          "shell.execute_reply.started": "2024-09-10T13:57:09.041371Z"
        },
        "id": "Fx8aGuYnR0Js",
        "trusted": true
      },
      "outputs": [],
      "source": [
        "from torchvision import transforms\n",
        "\n",
        "transform_train = transforms.Compose([transforms.ToTensor(),\n",
        "                                     transforms.Pad(32, padding_mode='symmetric'),\n",
        "                                     transforms.RandomHorizontalFlip(),\n",
        "                                     transforms.RandomVerticalFlip(),\n",
        "                                     transforms.RandomRotation(10),\n",
        "                                     transforms.Normalize((0.485, 0.456, 0.406), (0.229, 0.224, 0.225))])\n",
        "\n",
        "\n",
        "transform_test = transforms.Compose([transforms.ToTensor(),\n",
        "                                    transforms.Pad(32, padding_mode='symmetric'),\n",
        "                                     transforms.Normalize((0.485, 0.456, 0.406), (0.229, 0.224, 0.225))])"
      ]
    },
    {
      "cell_type": "code",
      "execution_count": null,
      "metadata": {
        "execution": {
          "iopub.execute_input": "2024-09-10T13:57:19.798915Z",
          "iopub.status.busy": "2024-09-10T13:57:19.798536Z",
          "iopub.status.idle": "2024-09-10T13:57:19.803709Z",
          "shell.execute_reply": "2024-09-10T13:57:19.802638Z",
          "shell.execute_reply.started": "2024-09-10T13:57:19.798878Z"
        },
        "id": "ys5Fs2oMR0Js",
        "trusted": true
      },
      "outputs": [],
      "source": [
        "dataset_train = ImageDataset(df=train, img_dir='train/', transform=transform_train)\n",
        "dataset_valid = ImageDataset(df=valid, img_dir='train/', transform=transform_test)"
      ]
    },
    {
      "cell_type": "code",
      "execution_count": null,
      "metadata": {
        "execution": {
          "iopub.execute_input": "2024-09-10T13:57:23.949927Z",
          "iopub.status.busy": "2024-09-10T13:57:23.949472Z",
          "iopub.status.idle": "2024-09-10T13:57:23.956112Z",
          "shell.execute_reply": "2024-09-10T13:57:23.955009Z",
          "shell.execute_reply.started": "2024-09-10T13:57:23.949882Z"
        },
        "id": "Ha4ovqIOR0Js",
        "trusted": true
      },
      "outputs": [],
      "source": [
        "from torch.utils.data import DataLoader\n",
        "\n",
        "loader_train = DataLoader(dataset=dataset_train, batch_size=32, shuffle=True)\n",
        "loader_valid = DataLoader(dataset=dataset_valid, batch_size=32, shuffle=False)"
      ]
    },
    {
      "cell_type": "code",
      "execution_count": null,
      "metadata": {
        "execution": {
          "iopub.execute_input": "2024-09-10T14:00:38.518295Z",
          "iopub.status.busy": "2024-09-10T14:00:38.517894Z",
          "iopub.status.idle": "2024-09-10T14:00:38.531971Z",
          "shell.execute_reply": "2024-09-10T14:00:38.531013Z",
          "shell.execute_reply.started": "2024-09-10T14:00:38.518256Z"
        },
        "id": "98oOJO6CR0Js",
        "trusted": true
      },
      "outputs": [],
      "source": [
        "import torch.nn as nn # 신경망 모듈\n",
        "import torch.nn.functional as F # 신경망 모듈에서 자주 사용되는 함수\n",
        "\n",
        "class Model(nn.Module):\n",
        "    # 신경망 계층 정의\n",
        "    def __init__(self):\n",
        "        super().__init__() # 상속받은 nn.Module의 __init__() 메서드 호출\n",
        "        # 1 ~ 5번째 {합성곱, 배치 정규화, 최대 풀링} 계층\n",
        "        self.layer1 = nn.Sequential(nn.Conv2d(in_channels=3, out_channels=32,\n",
        "                                              kernel_size=3, padding=2),\n",
        "                                    nn.BatchNorm2d(32), # 배치 정규화\n",
        "                                    nn.LeakyReLU(), # LeakyReLU 활성화 함수\n",
        "                                    nn.MaxPool2d(kernel_size=2))\n",
        "\n",
        "        self.layer2 = nn.Sequential(nn.Conv2d(in_channels=32, out_channels=64,\n",
        "                                              kernel_size=3, padding=2),\n",
        "                                    nn.BatchNorm2d(64),\n",
        "                                    nn.LeakyReLU(),\n",
        "                                    nn.MaxPool2d(kernel_size=2))\n",
        "\n",
        "        self.layer3 = nn.Sequential(nn.Conv2d(in_channels=64, out_channels=128,\n",
        "                                              kernel_size=3, padding=2),\n",
        "                                    nn.BatchNorm2d(128),\n",
        "                                    nn.LeakyReLU(),\n",
        "                                    nn.MaxPool2d(kernel_size=2))\n",
        "\n",
        "        self.layer4 = nn.Sequential(nn.Conv2d(in_channels=128, out_channels=256,\n",
        "                                              kernel_size=3, padding=2),\n",
        "                                    nn.BatchNorm2d(256),\n",
        "                                    nn.LeakyReLU(),\n",
        "                                    nn.MaxPool2d(kernel_size=2))\n",
        "\n",
        "        self.layer5 = nn.Sequential(nn.Conv2d(in_channels=256, out_channels=512,\n",
        "                                              kernel_size=3, padding=2),\n",
        "                                    nn.BatchNorm2d(512),\n",
        "                                    nn.LeakyReLU(),\n",
        "                                    nn.MaxPool2d(kernel_size=2))\n",
        "        # 평균 풀링 계층\n",
        "        self.avg_pool = nn.AvgPool2d(kernel_size=4)\n",
        "        # 전결합 계층\n",
        "        self.fc1 = nn.Linear(in_features=512 * 1 * 1, out_features=64)\n",
        "        self.fc2 = nn.Linear(in_features=64, out_features=2)\n",
        "\n",
        "    # 순전파 출력 정의\n",
        "    def forward(self, x):\n",
        "        x = self.layer1(x)\n",
        "        x = self.layer2(x)\n",
        "        x = self.layer3(x)\n",
        "        x = self.layer4(x)\n",
        "        x = self.layer5(x)\n",
        "        x = self.avg_pool(x)\n",
        "        x = x.view(-1, 512 * 1 * 1) # 평탄화\n",
        "        x = self.fc1(x)\n",
        "        x = self.fc2(x)\n",
        "        return x"
      ]
    },
    {
      "cell_type": "code",
      "execution_count": null,
      "metadata": {
        "execution": {
          "iopub.execute_input": "2024-09-10T14:00:43.801227Z",
          "iopub.status.busy": "2024-09-10T14:00:43.80028Z",
          "iopub.status.idle": "2024-09-10T14:00:44.106682Z",
          "shell.execute_reply": "2024-09-10T14:00:44.105585Z",
          "shell.execute_reply.started": "2024-09-10T14:00:43.801175Z"
        },
        "id": "SZYz9nSjR0Js",
        "trusted": true
      },
      "outputs": [],
      "source": [
        "model = Model().to(device)"
      ]
    },
    {
      "cell_type": "code",
      "execution_count": null,
      "metadata": {
        "execution": {
          "iopub.execute_input": "2024-09-10T14:00:51.096999Z",
          "iopub.status.busy": "2024-09-10T14:00:51.096618Z",
          "iopub.status.idle": "2024-09-10T14:00:51.102559Z",
          "shell.execute_reply": "2024-09-10T14:00:51.101304Z",
          "shell.execute_reply.started": "2024-09-10T14:00:51.096961Z"
        },
        "id": "AZ2W2MN6R0Js",
        "trusted": true
      },
      "outputs": [],
      "source": [
        "# 손실함수\n",
        "criterion = nn.CrossEntropyLoss()\n",
        "# 옵티마이저\n",
        "optimizer = torch.optim.Adamax(model.parameters(), lr=0.00006)"
      ]
    },
    {
      "cell_type": "code",
      "execution_count": null,
      "metadata": {
        "execution": {
          "iopub.execute_input": "2024-09-10T14:04:43.181602Z",
          "iopub.status.busy": "2024-09-10T14:04:43.180657Z",
          "iopub.status.idle": "2024-09-10T14:11:15.595712Z",
          "shell.execute_reply": "2024-09-10T14:11:15.594703Z",
          "shell.execute_reply.started": "2024-09-10T14:04:43.181557Z"
        },
        "id": "3lBGOhC9R0Jt",
        "outputId": "7a742a2d-57cc-467e-d95d-fb342974f168",
        "trusted": true
      },
      "outputs": [
        {
          "name": "stdout",
          "output_type": "stream",
          "text": [
            "에폭 [1/10] - 손실값: 0.0352\n",
            "에폭 [2/10] - 손실값: 0.0308\n",
            "에폭 [3/10] - 손실값: 0.0277\n",
            "에폭 [4/10] - 손실값: 0.0256\n",
            "에폭 [5/10] - 손실값: 0.0243\n",
            "에폭 [6/10] - 손실값: 0.0257\n",
            "에폭 [7/10] - 손실값: 0.0228\n",
            "에폭 [8/10] - 손실값: 0.0215\n",
            "에폭 [9/10] - 손실값: 0.0207\n",
            "에폭 [10/10] - 손실값: 0.0196\n"
          ]
        }
      ],
      "source": [
        "epochs = 10 # 총 에폭\n",
        "\n",
        "# 총 에폭만큼 반복\n",
        "for epoch in range(epochs):\n",
        "    epoch_loss = 0 # 에폭별 손실값 초기화\n",
        "\n",
        "    # '반복 횟수'만큼 반복\n",
        "    for images, labels in loader_train:\n",
        "        # 이미지, 레이블 데이터 미니배치를 장비에 할당\n",
        "        images = images.to(device)\n",
        "        labels = labels.to(device)\n",
        "\n",
        "        # 옵티마이저 내 기울기 초기화\n",
        "        optimizer.zero_grad()\n",
        "        # 순전파 : 이미지 데이터를 신경망 모델의 입력값으로 사용해 출력값 계산\n",
        "        outputs = model(images)\n",
        "        # 손실 함수를 활용해 outputs와 labels의 손실값 계산\n",
        "        loss = criterion(outputs, labels)\n",
        "        # 현재 배치에서의 손실 추가\n",
        "        epoch_loss += loss.item()\n",
        "        # 역전파 수행\n",
        "        loss.backward()\n",
        "        # 가중치 갱신\n",
        "        optimizer.step()\n",
        "\n",
        "    print(f'에폭 [{epoch+1}/{epochs}] - 손실값: {epoch_loss/len(loader_train):.4f}')"
      ]
    },
    {
      "cell_type": "code",
      "execution_count": null,
      "metadata": {
        "execution": {
          "iopub.execute_input": "2024-09-10T14:11:15.598484Z",
          "iopub.status.busy": "2024-09-10T14:11:15.59801Z",
          "iopub.status.idle": "2024-09-10T14:11:17.786873Z",
          "shell.execute_reply": "2024-09-10T14:11:17.785727Z",
          "shell.execute_reply.started": "2024-09-10T14:11:15.598426Z"
        },
        "id": "x8xUTX9yR0Jt",
        "outputId": "547454a5-1df0-46e1-db55-4588684a3940",
        "trusted": true
      },
      "outputs": [
        {
          "name": "stdout",
          "output_type": "stream",
          "text": [
            "검증 데이터 ROC AUC : 0.9995\n"
          ]
        }
      ],
      "source": [
        "from sklearn.metrics import roc_auc_score # ROC AUC 점수 계산 함수 임포트\n",
        "\n",
        "# 실제값과 예측 확률값을 담을 리스트 초기화\n",
        "true_list = []\n",
        "preds_list = []\n",
        "\n",
        "model.eval() # 모델을 평가 상태로 설정\n",
        "\n",
        "with torch.no_grad(): # 기울기 계산 비활성화\n",
        "    for images, labels in loader_valid:\n",
        "        # 이미지, 레이블 데이터 미니배치를 장비에 할당\n",
        "        images = images.to(device)\n",
        "        labels = labels.to(device)\n",
        "\n",
        "        # 순전파 : 이미지 데이터를 신경망 모델의 입력값으로 사용해 출력값 계산\n",
        "        outputs = model(images)\n",
        "        preds = torch.softmax(outputs.cpu(), dim=1)[:, 1] # 예측 확률값\n",
        "        true = labels.cpu() # 실제값\n",
        "        # 예측 확률값과 실제값을 리스트에 추가\n",
        "        preds_list.extend(preds)\n",
        "        true_list.extend(true)\n",
        "\n",
        "# 검증 데이터 ROC AUC 점수 계산\n",
        "print(f'검증 데이터 ROC AUC : {roc_auc_score(true_list, preds_list):.4f}')"
      ]
    },
    {
      "cell_type": "code",
      "execution_count": null,
      "metadata": {
        "execution": {
          "iopub.execute_input": "2024-09-10T14:11:17.78846Z",
          "iopub.status.busy": "2024-09-10T14:11:17.788114Z",
          "iopub.status.idle": "2024-09-10T14:11:23.058678Z",
          "shell.execute_reply": "2024-09-10T14:11:23.057557Z",
          "shell.execute_reply.started": "2024-09-10T14:11:17.788421Z"
        },
        "id": "hZ8ycY1VR0Jt",
        "trusted": true
      },
      "outputs": [],
      "source": [
        "dataset_test = ImageDataset(df=submission, img_dir='test/',\n",
        "                            transform=transform_test)\n",
        "loader_test = DataLoader(dataset=dataset_test, batch_size=32, shuffle=False)\n",
        "\n",
        "# 예측 수행\n",
        "model.eval() # 모델을 평가 상태로 설정\n",
        "\n",
        "preds = [] # 타깃 예측값 저장용 리스트 초기화\n",
        "\n",
        "with torch.no_grad(): # 기울기 계산 비활성화\n",
        "    for images, _ in loader_test:\n",
        "        # 이미지 데이터 미니배치를 장비에 할당\n",
        "        images = images.to(device)\n",
        "\n",
        "        # 순전파 : 이미지 데이터를 신경망 모델의 입력값으로 사용해 출력값 계산\n",
        "        outputs = model(images)\n",
        "        # 타깃값이 1일 확률(예측값)\n",
        "        preds_part = torch.softmax(outputs.cpu(), dim=1)[:, 1].tolist()\n",
        "        # preds에 preds_part 이어붙이기\n",
        "        preds.extend(preds_part)"
      ]
    },
    {
      "cell_type": "code",
      "execution_count": null,
      "metadata": {
        "execution": {
          "iopub.execute_input": "2024-09-10T14:11:23.061227Z",
          "iopub.status.busy": "2024-09-10T14:11:23.060845Z",
          "iopub.status.idle": "2024-09-10T14:11:23.098538Z",
          "shell.execute_reply": "2024-09-10T14:11:23.097605Z",
          "shell.execute_reply.started": "2024-09-10T14:11:23.06117Z"
        },
        "id": "u2qgVM0SR0Jt",
        "trusted": true
      },
      "outputs": [],
      "source": [
        "submission['has_cactus'] = preds\n",
        "submission.to_csv('submission.csv', index=False)"
      ]
    },
    {
      "cell_type": "code",
      "execution_count": null,
      "metadata": {
        "execution": {
          "iopub.execute_input": "2024-09-10T14:11:23.100041Z",
          "iopub.status.busy": "2024-09-10T14:11:23.099663Z",
          "iopub.status.idle": "2024-09-10T14:11:23.7696Z",
          "shell.execute_reply": "2024-09-10T14:11:23.768794Z",
          "shell.execute_reply.started": "2024-09-10T14:11:23.099985Z"
        },
        "id": "PBD-UC1pR0Jt",
        "trusted": true
      },
      "outputs": [],
      "source": [
        "import shutil\n",
        "\n",
        "shutil.rmtree('./train')\n",
        "shutil.rmtree('./test')"
      ]
    }
  ],
  "metadata": {
    "colab": {
      "name": "Improvement for cactus image classification",
      "provenance": []
    },
    "kaggle": {
      "accelerator": "nvidiaTeslaT4",
      "dataSources": [
        {
          "databundleVersionId": 331452,
          "sourceId": 13435,
          "sourceType": "competition"
        }
      ],
      "dockerImageVersionId": 30762,
      "isGpuEnabled": true,
      "isInternetEnabled": true,
      "language": "python",
      "sourceType": "notebook"
    },
    "kernelspec": {
      "display_name": "Python 3",
      "language": "python",
      "name": "python3"
    },
    "language_info": {
      "codemirror_mode": {
        "name": "ipython",
        "version": 3
      },
      "file_extension": ".py",
      "mimetype": "text/x-python",
      "name": "python",
      "nbconvert_exporter": "python",
      "pygments_lexer": "ipython3",
      "version": "3.10.14"
    }
  },
  "nbformat": 4,
  "nbformat_minor": 0
}
